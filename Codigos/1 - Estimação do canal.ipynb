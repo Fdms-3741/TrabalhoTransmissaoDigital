{
 "cells": [
  {
   "cell_type": "markdown",
   "id": "eb870c20",
   "metadata": {},
   "source": [
    "# Parte 1: Estimação do canal\n",
    "\n",
    "Esse relatório tem como objetivo utilizar as funções de transmissão e os conceitos previamente abordados para fazer a \n",
    "\n",
    "O objetivo dessa "
   ]
  },
  {
   "cell_type": "code",
   "execution_count": 1,
   "id": "eb20a3c1",
   "metadata": {},
   "outputs": [],
   "source": [
    "# Bibliotecas numéricas e devisualização de gráficos\n",
    "import numpy as np\n",
    "import scipy as sp\n",
    "import pandas as pd\n",
    "import matplotlib.pyplot as plt\n",
    "import seaborn as sns\n",
    "\n",
    "# Bibliotecas pessoais para funções itnernas\n",
    "from TransmissaoDigital.Operations import *\n",
    "from TransmissaoDigital.Plots import *"
   ]
  },
  {
   "cell_type": "markdown",
   "id": "ea9ed0e5",
   "metadata": {},
   "source": [
    "Parâmetros iniciais da simulação"
   ]
  },
  {
   "cell_type": "code",
   "execution_count": 2,
   "id": "3176ff9a",
   "metadata": {},
   "outputs": [],
   "source": [
    "M = 16 # Número de antenas\n",
    "K = 4  # Número de dispositivos\n",
    "\n",
    "messageLength = 10**5 # Números de símbolos transmitidos por usuário"
   ]
  },
  {
   "cell_type": "markdown",
   "id": "ac482830",
   "metadata": {},
   "source": [
    "Definição do canal e do sinal transmitido"
   ]
  },
  {
   "cell_type": "code",
   "execution_count": 3,
   "id": "967459b2",
   "metadata": {},
   "outputs": [],
   "source": [
    "def GerarCanal(M,K):\n",
    "    return np.matrix(np.random.normal(0,1,size=(M,K))+1j*np.random.normal(0,1,size=(M,K)))\n",
    "\n",
    "def GerarSimbolos(K,tamanhoMensagem):\n",
    "    return np.matrix(np.random.choice([-1,1],size=(K,tamanhoMensagem)) + 1j * np.random.choice([-1,1],size=(K,tamanhoMensagem)))/np.sqrt(2)"
   ]
  },
  {
   "cell_type": "markdown",
   "id": "8702a2d5",
   "metadata": {},
   "source": [
    "## Investigação atual\n",
    "\n",
    "Tentou-se aplicar a quantização antes do processamento do sinal mas sem sucesso. Em qlqr SNR o erro era de 100%. Abaixo está a tentativa de implementar a estimação do sinal proposta no artigo para que ela utilize os receptores ZF e MRC pra ver se algum gráfico pertinente de BER sai disso. \n",
    "\n",
    "Métodos de estimação implementados:\n",
    "* `EstimarCanalMS`: MS simples\n",
    "* `EstimarCanalAQN`: Additive quantizer noise (Proposta de \\[28\\]) (É o bussgang para $\\tau=K$)\n",
    "* `EstimarCanalBussgang`: Bussgang ($\\tau^{\\text{OPT}}$)\n",
    "\n",
    "Verificar: \n",
    "* Cálculo da matriz de autocorrelação de $R_p$\n",
    "* Calculo do MSE normalizado\n",
    "\n",
    "Implementar:\n",
    "* Cálculo da eficiência espectral de cada método\n",
    "* Cálculo do BER alcançado pelos val"
   ]
  },
  {
   "cell_type": "code",
   "execution_count": 4,
   "id": "6e102af1",
   "metadata": {},
   "outputs": [],
   "source": [
    "def Vect(Matriz):\n",
    "    return Matriz.ravel(order='F')"
   ]
  },
  {
   "cell_type": "code",
   "execution_count": 5,
   "id": "ed1aedfc",
   "metadata": {},
   "outputs": [],
   "source": [
    "def AutoCorr(vector):\n",
    "    \n",
    "    vectorSize = vector.shape[0]\n",
    "    fullData = np.concatenate([vector[::-1][:-1],vector])\n",
    "    \n",
    "    res = np.zeros((vectorSize,vectorSize),dtype='complex')\n",
    "    #print(fullData)\n",
    "    for idx in range(vectorSize):\n",
    "        #print(f\"i:{i} / vectorSize-i: {vectorSize-i}\")\n",
    "        res[vectorSize-idx-1,:] = fullData[idx:vectorSize+idx]\n",
    "    \n",
    "    return res"
   ]
  },
  {
   "cell_type": "code",
   "execution_count": 6,
   "id": "63b39b95",
   "metadata": {},
   "outputs": [],
   "source": [
    "def EstimarCanalBussgang(H_real,tamanhoPiloto=None,SNR=20):\n",
    "    \"\"\"\n",
    "    EstimarCanalBussgang(H_real)\n",
    "    Descrição:\n",
    "        Estima o canal e retorna um canal estimado\n",
    "    Parametros:\n",
    "        - H_real: Canal real\n",
    "        - tamanhoPiloto (default=None): Quantidade de símbolos piloto \n",
    "        para transmissão. Se vazio, considera igual ao número de antenas\n",
    "        definido por H_real.\n",
    "        - SNR (default=20): SNR do treinamento, em dB\n",
    "    Return:\n",
    "        - H_est: Canal estimado\n",
    "    \"\"\"\n",
    "    K = H_real.shape[1]\n",
    "    M = H_real.shape[0]\n",
    "    \n",
    "    if not tamanhoPiloto:\n",
    "        tamanhoPiloto = K\n",
    "    \n",
    "    rho_d = np.sqrt(10**(SNR/20))\n",
    "    \n",
    "    # Cria matriz piloto segundo especificações\n",
    "    pilotos = np.fft.fft(np.eye(max(tamanhoPiloto,K)))\n",
    "    Phi = pilotos[0:tamanhoPiloto,0:K] \n",
    "    \n",
    "    Ap = np.sqrt((2/np.pi)*(1/(K*rho_d+1)))*np.eye(M*tamanhoPiloto)\n",
    "    \n",
    "    Phi_bar = np.kron(Phi,rho_d*np.eye(M))\n",
    "    \n",
    "    Phi_tilde = np.matrix(np.matmul(Ap,Phi_bar))\n",
    "    #print(M*tamanhoPiloto)\n",
    "    #print(Phi_tilde.shape)\n",
    "    \n",
    "    #print(H_real.shape)\n",
    "    #print(Phi.shape)\n",
    "    Y_rec = TransmissaoMIMO(H_real,Phi.T,SNR=SNR)\n",
    "    R_rec = Quantizador(Y_rec)\n",
    "    \n",
    "    R_rec = np.ravel(R_rec,order='F')\n",
    "    \n",
    "    #\n",
    "    # PROBLEMA ATUAL: O calculo da matriz de autocorrelacao de R_p\n",
    "    #  - Talvez tenha a solução: https://stackoverflow.com/questions/643699/how-can-i-use-numpy-correlate-to-do-autocorrelation\n",
    "    #\n",
    "    #\n",
    "    \n",
    "    Corr_R = AutoCorr(R_rec)\n",
    "    H_est = np.matmul(Phi_tilde.H,np.linalg.inv(Corr_R))\n",
    "    H_est = np.matmul(H_est,R_rec)\n",
    "    \n",
    "    return H_est.reshape(H_real.shape,order='F')"
   ]
  },
  {
   "cell_type": "code",
   "execution_count": 7,
   "id": "99104308",
   "metadata": {},
   "outputs": [],
   "source": [
    "def EstimarCanalAQN(H_real,SNR=20):\n",
    "    \"\"\"\n",
    "    EstimarCanalBussgang(H_real)\n",
    "    Descrição:\n",
    "        Estima o canal e retorna um canal estimado\n",
    "    Parametros:\n",
    "        - H_real: Canal real\n",
    "        - tamanhoPiloto (default=None): Quantidade de símbolos piloto \n",
    "        para transmissão. Se vazio, considera igual ao número de antenas\n",
    "        definido por H_real.\n",
    "        - SNR (default=20): SNR do treinamento, em dB\n",
    "    Return:\n",
    "        - H_est: Canal estimado\n",
    "    \"\"\"\n",
    "    # Obtenção dos parâmetros importantes\n",
    "    K = H_real.shape[1]\n",
    "    M = H_real.shape[0]\n",
    "    tamanhoPiloto = K\n",
    "    \n",
    "    # Cria matriz piloto segundo especificações\n",
    "    pilotos = np.fft.fft(np.eye(max(tamanhoPiloto,K)))\n",
    "    Phi = pilotos[0:tamanhoPiloto,0:K] \n",
    "    \n",
    "    # Calcula matriz Ap da decomposicao\n",
    "    rho_d = np.sqrt(10**(SNR/20))\n",
    "    Ap = np.sqrt((2/np.pi)*(1/(K*rho_d+1)))*np.eye(M*tamanhoPiloto)\n",
    "    \n",
    "    # Calcula a relação de equação\n",
    "    Phi_bar = np.kron(Phi,rho_d*np.eye(M))\n",
    "    Phi_tilde = np.matrix(np.matmul(Ap,Phi_bar))\n",
    "    \n",
    "    # Faz a transmissão no canal e quantiza o resultado\n",
    "    Y_rec = TransmissaoMIMO(H_real,Phi.T,SNR=SNR)\n",
    "    R_rec = Quantizador(Y_rec)\n",
    "    R_rec = np.ravel(R_rec,order='F')\n",
    "    \n",
    "    # Calcula o estimador\n",
    "    H_est = np.matmul(Phi_tilde.H,R_rec)\n",
    "    \n",
    "    return H_est.reshape(H_real.shape,order='F')"
   ]
  },
  {
   "cell_type": "code",
   "execution_count": 8,
   "id": "25518bcd",
   "metadata": {},
   "outputs": [],
   "source": [
    "def EstimarCanalMS(H_real,tamanhoPiloto=None,SNR=20,quant=True):\n",
    "    \n",
    "    # Define tamanho do \n",
    "    if not tamanhoPiloto:\n",
    "        tamanhoPiloto = K\n",
    "        \n",
    "    Rho_p = np.sqrt(10**(SNR/20))\n",
    "    \n",
    "    pilotos = np.fft.fft(np.eye(max(tamanhoPiloto,K)))\n",
    "    Phi = pilotos[0:tamanhoPiloto,0:K] \n",
    "    \n",
    "    Y_rec = TransmissaoMIMO(H_real,Phi.T,SNR=SNR)\n",
    "    if quant:\n",
    "        Y_rec = Quantizador(Y_rec)\n",
    "    \n",
    "    Phi_bar = np.kron(Phi,Rho_p*np.eye(M))\n",
    "    \n",
    "    H_est = np.linalg.lstsq(Phi_bar,Vect(Y_rec).T,rcond=None)[0]\n",
    "    \n",
    "    return H_est.reshape(H_real.shape,order=\"F\")"
   ]
  },
  {
   "cell_type": "markdown",
   "id": "d771a42e",
   "metadata": {},
   "source": [
    "## Cálculo do erro médio quadrático da estimação de canal\n",
    "\n",
    "Nessa seção, será feito o uso das funções `EstimarCanalMS` e `EstimarCanalBussgang` para fazer a estimativa de canal. \n",
    "\n",
    "O cálculo do erro médio quadrático é feito por SNR. Para cada SNR, serão feitas `repeticoes` repetições do seguinte experimento:\n",
    "1. Calcula-se matrizes para canal real (`H_real`) e pilotos (`Phi`)\n",
    "2. Faz-se a estimação do canal para cada um dos métodos (`H_est`). São eles\n",
    "    * Mínimos Quadrados: `EstimarCanalMS`\n",
    "    * Bussgang (modelo proposto): `EstimarCanalBussgang`\n",
    "3. Calcula-se o erro médio quadrático entre `H_real` e `H_est`.\n",
    "4. Salva os resultados."
   ]
  },
  {
   "cell_type": "code",
   "execution_count": 9,
   "id": "36c85654",
   "metadata": {},
   "outputs": [],
   "source": [
    "repeticoes = 100 # Número de repetições por SNR\n",
    "\n",
    "M = 16\n",
    "K = 4\n",
    "\n",
    "resultados = pd.DataFrame(columns=['estimador','SNR','NMSE (dB)'])\n",
    "\n",
    "def CalculateNMSE(H_est,H_real):\n",
    "    return 20*np.log10(\n",
    "        np.sum(\n",
    "            np.square(np.abs(Vect(H_est) - Vect(H_real)))/np.square(H_real.shape[0]*H_real.shape[1])\n",
    "        )\n",
    "    )\n",
    "\n",
    "for SNR in range(-30,35,5): # Verifica entre -20 e 20 dB\n",
    "    \n",
    "    for i in range(repeticoes):\n",
    "        H_real = GerarCanal(M,K) # Gera canal\n",
    "        \n",
    "        # Estima o canal\n",
    "        H_est_MS = EstimarCanalMS(H_real,SNR=SNR)\n",
    "        H_est_AQN = EstimarCanalAQN(H_real,SNR=SNR)\n",
    "        H_est_Buss = EstimarCanalBussgang(H_real,tamanhoPiloto=20,SNR=SNR)\n",
    "        \n",
    "        # Calcula o resultado e adiciona a tabela\n",
    "        data = {\n",
    "            'estimador':['MS',\"AQN\",\"Bussgang\"],\n",
    "            'SNR':[SNR,SNR,SNR],\n",
    "            'NMSE (dB)':[\n",
    "                CalculateNMSE(H_est_MS,H_real),\n",
    "                CalculateNMSE(H_est_AQN,H_real),\n",
    "                CalculateNMSE(H_est_Buss,H_real)\n",
    "            ]   \n",
    "        }\n",
    "        \n",
    "        resultados = pd.concat([resultados,pd.DataFrame(data)],ignore_index=True)"
   ]
  },
  {
   "cell_type": "code",
   "execution_count": 10,
   "id": "c42c5cef",
   "metadata": {},
   "outputs": [
    {
     "data": {
      "text/plain": [
       "<seaborn.axisgrid.FacetGrid at 0x7fe9728becd0>"
      ]
     },
     "execution_count": 10,
     "metadata": {},
     "output_type": "execute_result"
    },
    {
     "data": {
      "image/png": "[encoded data removed]",
      "text/plain": [
       "<Figure size 617.75x500 with 1 Axes>"
      ]
     },
     "metadata": {},
     "output_type": "display_data"
    }
   ],
   "source": [
    "sns.catplot(data=resultados,x='SNR',y='NMSE (dB)',hue='estimador',errorbar=\"se\",kind=\"point\")"
   ]
  },
  {
   "cell_type": "code",
   "execution_count": 21,
   "id": "c7f79fe4",
   "metadata": {},
   "outputs": [
    {
     "name": "stdout",
     "output_type": "stream",
     "text": [
      "(4, 100000)\n",
      "(16, 100000)\n",
      "(4, 16)\n"
     ]
    },
    {
     "ename": "ValueError",
     "evalue": "Masked arrays must be 1-D",
     "output_type": "error",
     "traceback": [
      "\u001b[0;31m---------------------------------------------------------------------------\u001b[0m",
      "\u001b[0;31mValueError\u001b[0m                                Traceback (most recent call last)",
      "Cell \u001b[0;32mIn[21], line 10\u001b[0m\n\u001b[1;32m      8\u001b[0m \u001b[38;5;28mprint\u001b[39m(W\u001b[38;5;241m.\u001b[39mshape)\n\u001b[1;32m      9\u001b[0m s_est\u001b[38;5;241m=\u001b[39mW\u001b[38;5;129m@Y\u001b[39m\n\u001b[0;32m---> 10\u001b[0m \u001b[43mPlotConstelacao\u001b[49m\u001b[43m(\u001b[49m\u001b[43mnp\u001b[49m\u001b[38;5;241;43m.\u001b[39;49m\u001b[43mmatrix\u001b[49m\u001b[43m(\u001b[49m\u001b[43ms_est\u001b[49m\u001b[43m)\u001b[49m\u001b[43m)\u001b[49m\n\u001b[1;32m     11\u001b[0m s_est \u001b[38;5;241m=\u001b[39m Quantizador(s_est)\n\u001b[1;32m     12\u001b[0m \u001b[38;5;28mprint\u001b[39m(s_est\u001b[38;5;241m.\u001b[39mshape)\n",
      "File \u001b[0;32m~/Repositórios/TrabalhoTransmissaoDigital/Codigos/TransmissaoDigital/Plots.py:12\u001b[0m, in \u001b[0;36mPlotConstelacao\u001b[0;34m(data)\u001b[0m\n\u001b[1;32m      4\u001b[0m \u001b[38;5;28;01mdef\u001b[39;00m \u001b[38;5;21mPlotConstelacao\u001b[39m(data):\n\u001b[1;32m      5\u001b[0m \u001b[38;5;250m    \u001b[39m\u001b[38;5;124;03m\"\"\"\u001b[39;00m\n\u001b[1;32m      6\u001b[0m \u001b[38;5;124;03m    PlotConstelacao(data)\u001b[39;00m\n\u001b[1;32m      7\u001b[0m \u001b[38;5;124;03m    Descrição:\u001b[39;00m\n\u001b[0;32m   (...)\u001b[0m\n\u001b[1;32m     10\u001b[0m \u001b[38;5;124;03m        - data: Símbolos em quaisquer dimensões para fazer a constelação.\u001b[39;00m\n\u001b[1;32m     11\u001b[0m \u001b[38;5;124;03m    \"\"\"\u001b[39;00m\n\u001b[0;32m---> 12\u001b[0m     \u001b[43mplt\u001b[49m\u001b[38;5;241;43m.\u001b[39;49m\u001b[43mscatter\u001b[49m\u001b[43m(\u001b[49m\u001b[43mnp\u001b[49m\u001b[38;5;241;43m.\u001b[39;49m\u001b[43mreal\u001b[49m\u001b[43m(\u001b[49m\u001b[43mdata\u001b[49m\u001b[38;5;241;43m.\u001b[39;49m\u001b[43mravel\u001b[49m\u001b[43m(\u001b[49m\u001b[43m)\u001b[49m\u001b[43m)\u001b[49m\u001b[43m,\u001b[49m\u001b[43mnp\u001b[49m\u001b[38;5;241;43m.\u001b[39;49m\u001b[43mimag\u001b[49m\u001b[43m(\u001b[49m\u001b[43mdata\u001b[49m\u001b[38;5;241;43m.\u001b[39;49m\u001b[43mravel\u001b[49m\u001b[43m(\u001b[49m\u001b[43m)\u001b[49m\u001b[43m)\u001b[49m\u001b[43m)\u001b[49m\n",
      "File \u001b[0;32m~/miniconda3/envs/fasbus/lib/python3.8/site-packages/matplotlib/pyplot.py:2862\u001b[0m, in \u001b[0;36mscatter\u001b[0;34m(x, y, s, c, marker, cmap, norm, vmin, vmax, alpha, linewidths, edgecolors, plotnonfinite, data, **kwargs)\u001b[0m\n\u001b[1;32m   2857\u001b[0m \u001b[38;5;129m@_copy_docstring_and_deprecators\u001b[39m(Axes\u001b[38;5;241m.\u001b[39mscatter)\n\u001b[1;32m   2858\u001b[0m \u001b[38;5;28;01mdef\u001b[39;00m \u001b[38;5;21mscatter\u001b[39m(\n\u001b[1;32m   2859\u001b[0m         x, y, s\u001b[38;5;241m=\u001b[39m\u001b[38;5;28;01mNone\u001b[39;00m, c\u001b[38;5;241m=\u001b[39m\u001b[38;5;28;01mNone\u001b[39;00m, marker\u001b[38;5;241m=\u001b[39m\u001b[38;5;28;01mNone\u001b[39;00m, cmap\u001b[38;5;241m=\u001b[39m\u001b[38;5;28;01mNone\u001b[39;00m, norm\u001b[38;5;241m=\u001b[39m\u001b[38;5;28;01mNone\u001b[39;00m,\n\u001b[1;32m   2860\u001b[0m         vmin\u001b[38;5;241m=\u001b[39m\u001b[38;5;28;01mNone\u001b[39;00m, vmax\u001b[38;5;241m=\u001b[39m\u001b[38;5;28;01mNone\u001b[39;00m, alpha\u001b[38;5;241m=\u001b[39m\u001b[38;5;28;01mNone\u001b[39;00m, linewidths\u001b[38;5;241m=\u001b[39m\u001b[38;5;28;01mNone\u001b[39;00m, \u001b[38;5;241m*\u001b[39m,\n\u001b[1;32m   2861\u001b[0m         edgecolors\u001b[38;5;241m=\u001b[39m\u001b[38;5;28;01mNone\u001b[39;00m, plotnonfinite\u001b[38;5;241m=\u001b[39m\u001b[38;5;28;01mFalse\u001b[39;00m, data\u001b[38;5;241m=\u001b[39m\u001b[38;5;28;01mNone\u001b[39;00m, \u001b[38;5;241m*\u001b[39m\u001b[38;5;241m*\u001b[39mkwargs):\n\u001b[0;32m-> 2862\u001b[0m     __ret \u001b[38;5;241m=\u001b[39m \u001b[43mgca\u001b[49m\u001b[43m(\u001b[49m\u001b[43m)\u001b[49m\u001b[38;5;241;43m.\u001b[39;49m\u001b[43mscatter\u001b[49m\u001b[43m(\u001b[49m\n\u001b[1;32m   2863\u001b[0m \u001b[43m        \u001b[49m\u001b[43mx\u001b[49m\u001b[43m,\u001b[49m\u001b[43m \u001b[49m\u001b[43my\u001b[49m\u001b[43m,\u001b[49m\u001b[43m \u001b[49m\u001b[43ms\u001b[49m\u001b[38;5;241;43m=\u001b[39;49m\u001b[43ms\u001b[49m\u001b[43m,\u001b[49m\u001b[43m \u001b[49m\u001b[43mc\u001b[49m\u001b[38;5;241;43m=\u001b[39;49m\u001b[43mc\u001b[49m\u001b[43m,\u001b[49m\u001b[43m \u001b[49m\u001b[43mmarker\u001b[49m\u001b[38;5;241;43m=\u001b[39;49m\u001b[43mmarker\u001b[49m\u001b[43m,\u001b[49m\u001b[43m \u001b[49m\u001b[43mcmap\u001b[49m\u001b[38;5;241;43m=\u001b[39;49m\u001b[43mcmap\u001b[49m\u001b[43m,\u001b[49m\u001b[43m \u001b[49m\u001b[43mnorm\u001b[49m\u001b[38;5;241;43m=\u001b[39;49m\u001b[43mnorm\u001b[49m\u001b[43m,\u001b[49m\n\u001b[1;32m   2864\u001b[0m \u001b[43m        \u001b[49m\u001b[43mvmin\u001b[49m\u001b[38;5;241;43m=\u001b[39;49m\u001b[43mvmin\u001b[49m\u001b[43m,\u001b[49m\u001b[43m \u001b[49m\u001b[43mvmax\u001b[49m\u001b[38;5;241;43m=\u001b[39;49m\u001b[43mvmax\u001b[49m\u001b[43m,\u001b[49m\u001b[43m \u001b[49m\u001b[43malpha\u001b[49m\u001b[38;5;241;43m=\u001b[39;49m\u001b[43malpha\u001b[49m\u001b[43m,\u001b[49m\u001b[43m \u001b[49m\u001b[43mlinewidths\u001b[49m\u001b[38;5;241;43m=\u001b[39;49m\u001b[43mlinewidths\u001b[49m\u001b[43m,\u001b[49m\n\u001b[1;32m   2865\u001b[0m \u001b[43m        \u001b[49m\u001b[43medgecolors\u001b[49m\u001b[38;5;241;43m=\u001b[39;49m\u001b[43medgecolors\u001b[49m\u001b[43m,\u001b[49m\u001b[43m \u001b[49m\u001b[43mplotnonfinite\u001b[49m\u001b[38;5;241;43m=\u001b[39;49m\u001b[43mplotnonfinite\u001b[49m\u001b[43m,\u001b[49m\n\u001b[1;32m   2866\u001b[0m \u001b[43m        \u001b[49m\u001b[38;5;241;43m*\u001b[39;49m\u001b[38;5;241;43m*\u001b[39;49m\u001b[43m(\u001b[49m\u001b[43m{\u001b[49m\u001b[38;5;124;43m\"\u001b[39;49m\u001b[38;5;124;43mdata\u001b[39;49m\u001b[38;5;124;43m\"\u001b[39;49m\u001b[43m:\u001b[49m\u001b[43m \u001b[49m\u001b[43mdata\u001b[49m\u001b[43m}\u001b[49m\u001b[43m \u001b[49m\u001b[38;5;28;43;01mif\u001b[39;49;00m\u001b[43m \u001b[49m\u001b[43mdata\u001b[49m\u001b[43m \u001b[49m\u001b[38;5;129;43;01mis\u001b[39;49;00m\u001b[43m \u001b[49m\u001b[38;5;129;43;01mnot\u001b[39;49;00m\u001b[43m \u001b[49m\u001b[38;5;28;43;01mNone\u001b[39;49;00m\u001b[43m \u001b[49m\u001b[38;5;28;43;01melse\u001b[39;49;00m\u001b[43m \u001b[49m\u001b[43m{\u001b[49m\u001b[43m}\u001b[49m\u001b[43m)\u001b[49m\u001b[43m,\u001b[49m\u001b[43m \u001b[49m\u001b[38;5;241;43m*\u001b[39;49m\u001b[38;5;241;43m*\u001b[39;49m\u001b[43mkwargs\u001b[49m\u001b[43m)\u001b[49m\n\u001b[1;32m   2867\u001b[0m     sci(__ret)\n\u001b[1;32m   2868\u001b[0m     \u001b[38;5;28;01mreturn\u001b[39;00m __ret\n",
      "File \u001b[0;32m~/miniconda3/envs/fasbus/lib/python3.8/site-packages/matplotlib/__init__.py:1442\u001b[0m, in \u001b[0;36m_preprocess_data.<locals>.inner\u001b[0;34m(ax, data, *args, **kwargs)\u001b[0m\n\u001b[1;32m   1439\u001b[0m \u001b[38;5;129m@functools\u001b[39m\u001b[38;5;241m.\u001b[39mwraps(func)\n\u001b[1;32m   1440\u001b[0m \u001b[38;5;28;01mdef\u001b[39;00m \u001b[38;5;21minner\u001b[39m(ax, \u001b[38;5;241m*\u001b[39margs, data\u001b[38;5;241m=\u001b[39m\u001b[38;5;28;01mNone\u001b[39;00m, \u001b[38;5;241m*\u001b[39m\u001b[38;5;241m*\u001b[39mkwargs):\n\u001b[1;32m   1441\u001b[0m     \u001b[38;5;28;01mif\u001b[39;00m data \u001b[38;5;129;01mis\u001b[39;00m \u001b[38;5;28;01mNone\u001b[39;00m:\n\u001b[0;32m-> 1442\u001b[0m         \u001b[38;5;28;01mreturn\u001b[39;00m \u001b[43mfunc\u001b[49m\u001b[43m(\u001b[49m\u001b[43max\u001b[49m\u001b[43m,\u001b[49m\u001b[43m \u001b[49m\u001b[38;5;241;43m*\u001b[39;49m\u001b[38;5;28;43mmap\u001b[39;49m\u001b[43m(\u001b[49m\u001b[43msanitize_sequence\u001b[49m\u001b[43m,\u001b[49m\u001b[43m \u001b[49m\u001b[43margs\u001b[49m\u001b[43m)\u001b[49m\u001b[43m,\u001b[49m\u001b[43m \u001b[49m\u001b[38;5;241;43m*\u001b[39;49m\u001b[38;5;241;43m*\u001b[39;49m\u001b[43mkwargs\u001b[49m\u001b[43m)\u001b[49m\n\u001b[1;32m   1444\u001b[0m     bound \u001b[38;5;241m=\u001b[39m new_sig\u001b[38;5;241m.\u001b[39mbind(ax, \u001b[38;5;241m*\u001b[39margs, \u001b[38;5;241m*\u001b[39m\u001b[38;5;241m*\u001b[39mkwargs)\n\u001b[1;32m   1445\u001b[0m     auto_label \u001b[38;5;241m=\u001b[39m (bound\u001b[38;5;241m.\u001b[39marguments\u001b[38;5;241m.\u001b[39mget(label_namer)\n\u001b[1;32m   1446\u001b[0m                   \u001b[38;5;129;01mor\u001b[39;00m bound\u001b[38;5;241m.\u001b[39mkwargs\u001b[38;5;241m.\u001b[39mget(label_namer))\n",
      "File \u001b[0;32m~/miniconda3/envs/fasbus/lib/python3.8/site-packages/matplotlib/axes/_axes.py:4612\u001b[0m, in \u001b[0;36mAxes.scatter\u001b[0;34m(self, x, y, s, c, marker, cmap, norm, vmin, vmax, alpha, linewidths, edgecolors, plotnonfinite, **kwargs)\u001b[0m\n\u001b[1;32m   4608\u001b[0m     x, y, s, edgecolors, linewidths \u001b[38;5;241m=\u001b[39m \\\n\u001b[1;32m   4609\u001b[0m         cbook\u001b[38;5;241m.\u001b[39m_combine_masks(x, y, s, edgecolors, linewidths)\n\u001b[1;32m   4610\u001b[0m \u001b[38;5;28;01melse\u001b[39;00m:\n\u001b[1;32m   4611\u001b[0m     x, y, s, c, colors, edgecolors, linewidths \u001b[38;5;241m=\u001b[39m \\\n\u001b[0;32m-> 4612\u001b[0m         \u001b[43mcbook\u001b[49m\u001b[38;5;241;43m.\u001b[39;49m\u001b[43m_combine_masks\u001b[49m\u001b[43m(\u001b[49m\n\u001b[1;32m   4613\u001b[0m \u001b[43m            \u001b[49m\u001b[43mx\u001b[49m\u001b[43m,\u001b[49m\u001b[43m \u001b[49m\u001b[43my\u001b[49m\u001b[43m,\u001b[49m\u001b[43m \u001b[49m\u001b[43ms\u001b[49m\u001b[43m,\u001b[49m\u001b[43m \u001b[49m\u001b[43mc\u001b[49m\u001b[43m,\u001b[49m\u001b[43m \u001b[49m\u001b[43mcolors\u001b[49m\u001b[43m,\u001b[49m\u001b[43m \u001b[49m\u001b[43medgecolors\u001b[49m\u001b[43m,\u001b[49m\u001b[43m \u001b[49m\u001b[43mlinewidths\u001b[49m\u001b[43m)\u001b[49m\n\u001b[1;32m   4614\u001b[0m \u001b[38;5;66;03m# Unmask edgecolors if it was actually a single RGB or RGBA.\u001b[39;00m\n\u001b[1;32m   4615\u001b[0m \u001b[38;5;28;01mif\u001b[39;00m (x\u001b[38;5;241m.\u001b[39msize \u001b[38;5;129;01min\u001b[39;00m (\u001b[38;5;241m3\u001b[39m, \u001b[38;5;241m4\u001b[39m)\n\u001b[1;32m   4616\u001b[0m         \u001b[38;5;129;01mand\u001b[39;00m np\u001b[38;5;241m.\u001b[39mma\u001b[38;5;241m.\u001b[39mis_masked(edgecolors)\n\u001b[1;32m   4617\u001b[0m         \u001b[38;5;129;01mand\u001b[39;00m \u001b[38;5;129;01mnot\u001b[39;00m np\u001b[38;5;241m.\u001b[39mma\u001b[38;5;241m.\u001b[39mis_masked(orig_edgecolor)):\n",
      "File \u001b[0;32m~/miniconda3/envs/fasbus/lib/python3.8/site-packages/matplotlib/cbook/__init__.py:1060\u001b[0m, in \u001b[0;36m_combine_masks\u001b[0;34m(*args)\u001b[0m\n\u001b[1;32m   1058\u001b[0m \u001b[38;5;28;01melse\u001b[39;00m:\n\u001b[1;32m   1059\u001b[0m     \u001b[38;5;28;01mif\u001b[39;00m \u001b[38;5;28misinstance\u001b[39m(x, np\u001b[38;5;241m.\u001b[39mma\u001b[38;5;241m.\u001b[39mMaskedArray) \u001b[38;5;129;01mand\u001b[39;00m x\u001b[38;5;241m.\u001b[39mndim \u001b[38;5;241m>\u001b[39m \u001b[38;5;241m1\u001b[39m:\n\u001b[0;32m-> 1060\u001b[0m         \u001b[38;5;28;01mraise\u001b[39;00m \u001b[38;5;167;01mValueError\u001b[39;00m(\u001b[38;5;124m\"\u001b[39m\u001b[38;5;124mMasked arrays must be 1-D\u001b[39m\u001b[38;5;124m\"\u001b[39m)\n\u001b[1;32m   1061\u001b[0m     \u001b[38;5;28;01mtry\u001b[39;00m:\n\u001b[1;32m   1062\u001b[0m         x \u001b[38;5;241m=\u001b[39m np\u001b[38;5;241m.\u001b[39masanyarray(x)\n",
      "\u001b[0;31mValueError\u001b[0m: Masked arrays must be 1-D"
     ]
    },
    {
     "data": {
      "image/png": "[encoded data removed]",
      "text/plain": [
       "<Figure size 640x480 with 1 Axes>"
      ]
     },
     "metadata": {},
     "output_type": "display_data"
    }
   ],
   "source": [
    "s = GerarSimbolos(K,messageLength)\n",
    "print(s.shape)\n",
    "Y = TransmissaoMIMO(H_real,s)\n",
    "#Y = Quantizador(Y)\n",
    "print(Y.shape)\n",
    "H_est = EstimarCanalMS(np.matrix(H_real))\n",
    "W = ReceptorMRC(H_real)\n",
    "print(W.shape)\n",
    "s_est=W@Y\n",
    "PlotConstelacao(np.matrix(s_est))\n",
    "s_est = Quantizador(s_est)\n",
    "print(s_est.shape)\n",
    "BER = (np.sum(np.abs(s_est - s) > 10**(-4)))/(s_est.shape[0]*s_est.shape[1])\n",
    "BER"
   ]
  },
  {
   "cell_type": "markdown",
   "id": "3802aea1",
   "metadata": {},
   "source": [
    "## Estimação por MS"
   ]
  },
  {
   "cell_type": "code",
   "execution_count": 12,
   "id": "68ad2ac3",
   "metadata": {},
   "outputs": [
    {
     "data": {
      "text/plain": [
       "array([[1, 2, 3, 1, 2, 3],\n",
       "       [2, 4, 6, 2, 4, 6],\n",
       "       [3, 6, 9, 3, 6, 9],\n",
       "       [1, 2, 3, 1, 2, 3],\n",
       "       [2, 4, 6, 2, 4, 6],\n",
       "       [3, 6, 9, 3, 6, 9]])"
      ]
     },
     "execution_count": 12,
     "metadata": {},
     "output_type": "execute_result"
    }
   ],
   "source": [
    "a = np.array([1,2,3,1,2,3])\n",
    "\n",
    "np.outer(a,a)"
   ]
  },
  {
   "cell_type": "code",
   "execution_count": null,
   "id": "c0a76a46",
   "metadata": {},
   "outputs": [],
   "source": []
  }
 ],
 "metadata": {
  "kernelspec": {
   "display_name": "Python 3 (ipykernel)",
   "language": "python",
   "name": "python3"
  },
  "language_info": {
   "codemirror_mode": {
    "name": "ipython",
    "version": 3
   },
   "file_extension": ".py",
   "mimetype": "text/x-python",
   "name": "python",
   "nbconvert_exporter": "python",
   "pygments_lexer": "ipython3",
   "version": "3.8.17"
  }
 },
 "nbformat": 4,
 "nbformat_minor": 5
}
