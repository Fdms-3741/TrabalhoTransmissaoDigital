{
 "cells": [
  {
   "cell_type": "markdown",
   "id": "eb870c20",
   "metadata": {},
   "source": [
    "# Sistemas _massive_ MIMO com quantizadores 1-bit\n",
    "\n",
    "Esse relatório irá demonstrar o processo de simulação de um sistema de comunicação _massive_ MIMO na qual quantizadores de 1-bit são utilizados nas antenas. "
   ]
  },
  {
   "cell_type": "code",
   "execution_count": 71,
   "id": "eb20a3c1",
   "metadata": {},
   "outputs": [],
   "source": [
    "# Bibliotecas numéricas e devisualização de gráficos\n",
    "import numpy as np\n",
    "import scipy as sp\n",
    "import pandas as pd\n",
    "import matplotlib.pyplot as plt\n",
    "import seaborn as sns\n",
    "\n",
    "# Bibliotecas pessoais para funções itnernas\n",
    "from TransmissaoDigital.Operations import *\n",
    "from TransmissaoDigital.Plots import *"
   ]
  },
  {
   "cell_type": "markdown",
   "id": "ea9ed0e5",
   "metadata": {},
   "source": [
    "Parâmetros iniciais da simulação"
   ]
  },
  {
   "cell_type": "code",
   "execution_count": 2,
   "id": "3176ff9a",
   "metadata": {},
   "outputs": [],
   "source": [
    "M = 16 # Número de antenas\n",
    "K = 4  # Número de dispositivos\n",
    "\n",
    "messageLength = 10**5 # Números de símbolos transmitidos por usuário"
   ]
  },
  {
   "cell_type": "markdown",
   "id": "ac482830",
   "metadata": {},
   "source": [
    "Definição do canal e do sinal transmitido"
   ]
  },
  {
   "cell_type": "code",
   "execution_count": 3,
   "id": "967459b2",
   "metadata": {},
   "outputs": [],
   "source": [
    "def GerarCanal(M,K):\n",
    "     return np.matrix(np.random.normal(0,1,size=(M,K))+1j*np.random.normal(0,1,size=(M,K)))\n",
    "\n",
    "def GerarSimbolos(K,tamanhoMensagem):\n",
    "    s = np.matrix(np.random.choice([-1,1],size=(K,tamanhoMensagem)) + 1j * np.random.choice([-1,1],size=(K,tamanhoMensagem)))/np.sqrt(2)"
   ]
  },
  {
   "cell_type": "markdown",
   "id": "8702a2d5",
   "metadata": {},
   "source": [
    "## Investigação atual\n",
    "\n",
    "Tentou-se aplicar a quantização antes do processamento do sinal mas sem sucesso. Em qlqr SNR o erro era de 100%. Abaixo está a tentativa de implementar a estimação do sinal proposta no artigo para que ela utilize os receptores ZF e MRC pra ver se algum gráfico pertinente de BER sai disso. \n",
    "\n",
    "Métodos de estimação implementados:\n",
    "* `EstimarCanalMS`: MS simples\n",
    "* `EstimarCanalAQN`: Additive quantizer noise (Proposta de \\[28\\]) (É o bussgang para $\\tau=K$)\n",
    "* `EstimarCanalBussgang`: Bussgang ($\\tau^{\\text{OPT}}$)\n",
    "\n",
    "Verificar: \n",
    "* Cálculo da matriz de autocorrelação de $R_p$\n",
    "* Calculo do MSE normalizado\n",
    "\n",
    "Implementar:\n",
    "* Cálculo da eficiência espectral de cada método\n",
    "* Cálculo do BER alcançado pelos val"
   ]
  },
  {
   "cell_type": "code",
   "execution_count": 4,
   "id": "6e102af1",
   "metadata": {},
   "outputs": [],
   "source": [
    "def Vect(Matriz):\n",
    "    return Matriz.ravel(order='F')"
   ]
  },
  {
   "cell_type": "code",
   "execution_count": 125,
   "id": "ed1aedfc",
   "metadata": {},
   "outputs": [],
   "source": [
    "def AutoCorr(vector):\n",
    "    \n",
    "    vectorSize = vector.shape[0]\n",
    "    fullData = np.concatenate([vector[::-1][:-1],vector])\n",
    "    \n",
    "    res = np.zeros((vectorSize,vectorSize),dtype='complex')\n",
    "    #print(fullData)\n",
    "    for idx in range(vectorSize):\n",
    "        #print(f\"i:{i} / vectorSize-i: {vectorSize-i}\")\n",
    "        res[vectorSize-idx-1,:] = fullData[idx:vectorSize+idx]\n",
    "    \n",
    "    return res"
   ]
  },
  {
   "cell_type": "code",
   "execution_count": 126,
   "id": "63b39b95",
   "metadata": {},
   "outputs": [],
   "source": [
    "def EstimarCanalBussgang(H_real,tamanhoPiloto=None,SNR=20):\n",
    "    \"\"\"\n",
    "    EstimarCanalBussgang(H_real)\n",
    "    Descrição:\n",
    "        Estima o canal e retorna um canal estimado\n",
    "    Parametros:\n",
    "        - H_real: Canal real\n",
    "        - tamanhoPiloto (default=None): Quantidade de símbolos piloto \n",
    "        para transmissão. Se vazio, considera igual ao número de antenas\n",
    "        definido por H_real.\n",
    "        - SNR (default=20): SNR do treinamento, em dB\n",
    "    Return:\n",
    "        - H_est: Canal estimado\n",
    "    \"\"\"\n",
    "    K = H_real.shape[1]\n",
    "    M = H_real.shape[0]\n",
    "    \n",
    "    if not tamanhoPiloto:\n",
    "        tamanhoPiloto = K\n",
    "    \n",
    "    rho_d = np.sqrt(10**(SNR/20))\n",
    "    \n",
    "    # Cria matriz piloto segundo especificações\n",
    "    pilotos = np.fft.fft(np.eye(max(tamanhoPiloto,K)))\n",
    "    Phi = pilotos[0:tamanhoPiloto,0:K] \n",
    "    \n",
    "    Ap = np.sqrt((2/np.pi)*(1/(K*rho_d+1)))*np.eye(M*tamanhoPiloto)\n",
    "    \n",
    "    Phi_bar = np.kron(Phi,rho_d*np.eye(M))\n",
    "    \n",
    "    Phi_tilde = np.matrix(np.matmul(Ap,Phi_bar))\n",
    "    #print(M*tamanhoPiloto)\n",
    "    #print(Phi_tilde.shape)\n",
    "    \n",
    "    #print(H_real.shape)\n",
    "    #print(Phi.shape)\n",
    "    Y_rec = TransmissaoMIMO(H_real,Phi.T,SNR=SNR)\n",
    "    R_rec = Quantizador(Y_rec)\n",
    "    \n",
    "    R_rec = np.ravel(R_rec,order='F')\n",
    "    \n",
    "    #\n",
    "    # PROBLEMA ATUAL: O calculo da matriz de autocorrelacao de R_p\n",
    "    #  - Talvez tenha a solução: https://stackoverflow.com/questions/643699/how-can-i-use-numpy-correlate-to-do-autocorrelation\n",
    "    #\n",
    "    #\n",
    "    \n",
    "    Corr_R = AutoCorr(R_rec)\n",
    "    H_est = np.matmul(Phi_tilde.H,np.linalg.inv(Corr_R))\n",
    "    H_est = np.matmul(H_est,R_rec)\n",
    "    \n",
    "    return H_est.reshape(H_real.shape,order='F')"
   ]
  },
  {
   "cell_type": "code",
   "execution_count": 132,
   "id": "99104308",
   "metadata": {},
   "outputs": [],
   "source": [
    "def EstimarCanalAQN(H_real,SNR=20):\n",
    "    \"\"\"\n",
    "    EstimarCanalBussgang(H_real)\n",
    "    Descrição:\n",
    "        Estima o canal e retorna um canal estimado\n",
    "    Parametros:\n",
    "        - H_real: Canal real\n",
    "        - tamanhoPiloto (default=None): Quantidade de símbolos piloto \n",
    "        para transmissão. Se vazio, considera igual ao número de antenas\n",
    "        definido por H_real.\n",
    "        - SNR (default=20): SNR do treinamento, em dB\n",
    "    Return:\n",
    "        - H_est: Canal estimado\n",
    "    \"\"\"\n",
    "    # Obtenção dos parâmetros importantes\n",
    "    K = H_real.shape[1]\n",
    "    M = H_real.shape[0]\n",
    "    tamanhoPiloto = K\n",
    "    \n",
    "    # Cria matriz piloto segundo especificações\n",
    "    pilotos = np.fft.fft(np.eye(max(tamanhoPiloto,K)))\n",
    "    Phi = pilotos[0:tamanhoPiloto,0:K] \n",
    "    \n",
    "    # Calcula matriz Ap da decomposicao\n",
    "    rho_d = np.sqrt(10**(SNR/20))\n",
    "    Ap = np.sqrt((2/np.pi)*(1/(K*rho_d+1)))*np.eye(M*tamanhoPiloto)\n",
    "    \n",
    "    # Calcula a relação de equação\n",
    "    Phi_bar = np.kron(Phi,rho_d*np.eye(M))\n",
    "    Phi_tilde = np.matrix(np.matmul(Ap,Phi_bar))\n",
    "    \n",
    "    # Faz a transmissão no canal e quantiza o resultado\n",
    "    Y_rec = TransmissaoMIMO(H_real,Phi.T,SNR=SNR)\n",
    "    R_rec = Quantizador(Y_rec)\n",
    "    R_rec = np.ravel(R_rec,order='F')\n",
    "    \n",
    "    # Calcula o estimador\n",
    "    H_est = np.matmul(Phi_tilde.H,R_rec)\n",
    "    \n",
    "    return H_est.reshape(H_real.shape,order='F')"
   ]
  },
  {
   "cell_type": "code",
   "execution_count": 127,
   "id": "25518bcd",
   "metadata": {},
   "outputs": [],
   "source": [
    "def EstimarCanalMS(H_real,tamanhoPiloto=None,SNR=20,quant=True):\n",
    "    \n",
    "    # Define tamanho do \n",
    "    if not tamanhoPiloto:\n",
    "        tamanhoPiloto = K\n",
    "        \n",
    "    Rho_p = np.sqrt(10**(SNR/20))\n",
    "    \n",
    "    pilotos = np.fft.fft(np.eye(max(tamanhoPiloto,K)))\n",
    "    Phi = pilotos[0:tamanhoPiloto,0:K] \n",
    "    \n",
    "    Y_rec = TransmissaoMIMO(H_real,Phi.T,SNR=SNR)\n",
    "    if quant:\n",
    "        Y_rec = Quantizador(Y_rec)\n",
    "    \n",
    "    Phi_bar = np.kron(Phi,Rho_p*np.eye(M))\n",
    "    \n",
    "    H_est = np.linalg.lstsq(Phi_bar,Vect(Y_rec).T,rcond=None)[0]\n",
    "    \n",
    "    return H_est.reshape(H_real.shape,order=\"F\")"
   ]
  },
  {
   "cell_type": "markdown",
   "id": "d771a42e",
   "metadata": {},
   "source": [
    "## Cálculo do erro médio quadrático da estimação de canal\n",
    "\n",
    "Nessa seção, será feito o uso das funções `EstimarCanalMS` e `EstimarCanalBussgang` para fazer a estimativa de canal. \n",
    "\n",
    "O cálculo do erro médio quadrático é feito por SNR. Para cada SNR, serão feitas `repeticoes` repetições do seguinte experimento:\n",
    "1. Calcula-se matrizes para canal real (`H_real`) e pilotos (`Phi`)\n",
    "2. Faz-se a estimação do canal para cada um dos métodos (`H_est`). São eles\n",
    "    * Mínimos Quadrados: `EstimarCanalMS`\n",
    "    * Bussgang (modelo proposto): `EstimarCanalBussgang`\n",
    "3. Calcula-se o erro médio quadrático entre `H_real` e `H_est`.\n",
    "4. Salva os resultados."
   ]
  },
  {
   "cell_type": "code",
   "execution_count": 139,
   "id": "36c85654",
   "metadata": {},
   "outputs": [
    {
     "data": {
      "text/html": [
       "<div>\n",
       "<style scoped>\n",
       "    .dataframe tbody tr th:only-of-type {\n",
       "        vertical-align: middle;\n",
       "    }\n",
       "\n",
       "    .dataframe tbody tr th {\n",
       "        vertical-align: top;\n",
       "    }\n",
       "\n",
       "    .dataframe thead th {\n",
       "        text-align: right;\n",
       "    }\n",
       "</style>\n",
       "<table border=\"1\" class=\"dataframe\">\n",
       "  <thead>\n",
       "    <tr style=\"text-align: right;\">\n",
       "      <th></th>\n",
       "      <th>estimador</th>\n",
       "      <th>SNR</th>\n",
       "      <th>NMSE (dB)</th>\n",
       "    </tr>\n",
       "  </thead>\n",
       "  <tbody>\n",
       "    <tr>\n",
       "      <th>0</th>\n",
       "      <td>MS</td>\n",
       "      <td>-30</td>\n",
       "      <td>-20.650424</td>\n",
       "    </tr>\n",
       "    <tr>\n",
       "      <th>1</th>\n",
       "      <td>AQN</td>\n",
       "      <td>-30</td>\n",
       "      <td>-29.748316</td>\n",
       "    </tr>\n",
       "    <tr>\n",
       "      <th>2</th>\n",
       "      <td>MS</td>\n",
       "      <td>-30</td>\n",
       "      <td>-21.702782</td>\n",
       "    </tr>\n",
       "    <tr>\n",
       "      <th>3</th>\n",
       "      <td>AQN</td>\n",
       "      <td>-30</td>\n",
       "      <td>-31.116911</td>\n",
       "    </tr>\n",
       "    <tr>\n",
       "      <th>4</th>\n",
       "      <td>MS</td>\n",
       "      <td>-30</td>\n",
       "      <td>-20.074475</td>\n",
       "    </tr>\n",
       "    <tr>\n",
       "      <th>...</th>\n",
       "      <td>...</td>\n",
       "      <td>...</td>\n",
       "      <td>...</td>\n",
       "    </tr>\n",
       "    <tr>\n",
       "      <th>2595</th>\n",
       "      <td>AQN</td>\n",
       "      <td>30</td>\n",
       "      <td>-30.977850</td>\n",
       "    </tr>\n",
       "    <tr>\n",
       "      <th>2596</th>\n",
       "      <td>MS</td>\n",
       "      <td>30</td>\n",
       "      <td>-31.899717</td>\n",
       "    </tr>\n",
       "    <tr>\n",
       "      <th>2597</th>\n",
       "      <td>AQN</td>\n",
       "      <td>30</td>\n",
       "      <td>-31.075942</td>\n",
       "    </tr>\n",
       "    <tr>\n",
       "      <th>2598</th>\n",
       "      <td>MS</td>\n",
       "      <td>30</td>\n",
       "      <td>-32.328590</td>\n",
       "    </tr>\n",
       "    <tr>\n",
       "      <th>2599</th>\n",
       "      <td>AQN</td>\n",
       "      <td>30</td>\n",
       "      <td>-30.941586</td>\n",
       "    </tr>\n",
       "  </tbody>\n",
       "</table>\n",
       "<p>2600 rows × 3 columns</p>\n",
       "</div>"
      ],
      "text/plain": [
       "     estimador  SNR  NMSE (dB)\n",
       "0           MS  -30 -20.650424\n",
       "1          AQN  -30 -29.748316\n",
       "2           MS  -30 -21.702782\n",
       "3          AQN  -30 -31.116911\n",
       "4           MS  -30 -20.074475\n",
       "...        ...  ...        ...\n",
       "2595       AQN   30 -30.977850\n",
       "2596        MS   30 -31.899717\n",
       "2597       AQN   30 -31.075942\n",
       "2598        MS   30 -32.328590\n",
       "2599       AQN   30 -30.941586\n",
       "\n",
       "[2600 rows x 3 columns]"
      ]
     },
     "execution_count": 139,
     "metadata": {},
     "output_type": "execute_result"
    }
   ],
   "source": [
    "repeticoes = 100 # Número de repetições por SNR\n",
    "\n",
    "M = 16\n",
    "K = 4\n",
    "\n",
    "resultados = pd.DataFrame(columns=['estimador','SNR','NMSE (dB)'])\n",
    "\n",
    "def CalculateNMSE(H_est,H_real):\n",
    "    return 20*np.log10(\n",
    "        np.sum(\n",
    "            np.square(np.abs(Vect(H_est) - Vect(H_real)))/np.square(H_real.shape[0]*H_real.shape[1])\n",
    "        )\n",
    "    )\n",
    "\n",
    "for SNR in range(-30,35,5): # Verifica entre -20 e 20 dB\n",
    "    \n",
    "    for i in range(repeticoes):\n",
    "        H_real = GerarCanal(M,K) # Gera canal\n",
    "        \n",
    "        # Estima o canal\n",
    "        H_est_MS = EstimarCanalMS(H_real,SNR=SNR)\n",
    "        H_est_AQN = EstimarCanalBussgang(H_real,tamanhoPiloto=20,SNR=SNR)\n",
    "        \n",
    "        # Calcula o resultado e adiciona a tabela\n",
    "        data = {\n",
    "            'estimador':['MS',\"AQN\"],\n",
    "            'SNR':[SNR,SNR],\n",
    "            'NMSE (dB)':[\n",
    "                CalculateNMSE(H_est_MS,H_real),\n",
    "                CalculateNMSE(H_est_AQN,H_real)\n",
    "            ]   \n",
    "        }\n",
    "        \n",
    "        resultados = pd.concat([resultados,pd.DataFrame(data)],ignore_index=True)\n",
    "resultados"
   ]
  },
  {
   "cell_type": "code",
   "execution_count": 140,
   "id": "c42c5cef",
   "metadata": {},
   "outputs": [
    {
     "data": {
      "text/plain": [
       "<seaborn.axisgrid.FacetGrid at 0x7f5724d25270>"
      ]
     },
     "execution_count": 140,
     "metadata": {},
     "output_type": "execute_result"
    },
    {
     "data": {
      "image/png": "[encoded data removed]",
      "text/plain": [
       "<Figure size 581.361x500 with 1 Axes>"
      ]
     },
     "metadata": {},
     "output_type": "display_data"
    }
   ],
   "source": [
    "sns.catplot(data=resultados,x='SNR',y='NMSE (dB)',hue='estimador',errorbar=\"se\",kind=\"point\")"
   ]
  },
  {
   "cell_type": "code",
   "execution_count": 7,
   "id": "c7f79fe4",
   "metadata": {},
   "outputs": [
    {
     "ename": "NameError",
     "evalue": "name 'Vect' is not defined",
     "output_type": "error",
     "traceback": [
      "\u001b[0;31m---------------------------------------------------------------------------\u001b[0m",
      "\u001b[0;31mNameError\u001b[0m                                 Traceback (most recent call last)",
      "Cell \u001b[0;32mIn[7], line 3\u001b[0m\n\u001b[1;32m      1\u001b[0m Y \u001b[38;5;241m=\u001b[39m TransmissaoMIMO(H_real,s)\n\u001b[1;32m      2\u001b[0m Y \u001b[38;5;241m=\u001b[39m Quantizador(Y)\n\u001b[0;32m----> 3\u001b[0m H_est \u001b[38;5;241m=\u001b[39m \u001b[43mEstimarCanalMS\u001b[49m\u001b[43m(\u001b[49m\u001b[43mnp\u001b[49m\u001b[38;5;241;43m.\u001b[39;49m\u001b[43mmatrix\u001b[49m\u001b[43m(\u001b[49m\u001b[43mH_real\u001b[49m\u001b[43m)\u001b[49m\u001b[43m)\u001b[49m\n\u001b[1;32m      4\u001b[0m s_est \u001b[38;5;241m=\u001b[39m ReceptorZF(H_est,Y)\n",
      "Cell \u001b[0;32mIn[6], line 13\u001b[0m, in \u001b[0;36mEstimarCanalMS\u001b[0;34m(H_real, SNR, quant)\u001b[0m\n\u001b[1;32m      9\u001b[0m     Y_rec \u001b[38;5;241m=\u001b[39m Quantizador(Y_rec)\n\u001b[1;32m     11\u001b[0m Phi_bar \u001b[38;5;241m=\u001b[39m np\u001b[38;5;241m.\u001b[39mkron(pilotos,Rho_p\u001b[38;5;241m*\u001b[39mnp\u001b[38;5;241m.\u001b[39meye(M))\n\u001b[0;32m---> 13\u001b[0m H_est \u001b[38;5;241m=\u001b[39m np\u001b[38;5;241m.\u001b[39mlinalg\u001b[38;5;241m.\u001b[39msolve(Phi_bar,\u001b[43mVect\u001b[49m(Y_rec)\u001b[38;5;241m.\u001b[39mT)\n\u001b[1;32m     15\u001b[0m \u001b[38;5;28;01mreturn\u001b[39;00m H_est\u001b[38;5;241m.\u001b[39mreshape(H_real\u001b[38;5;241m.\u001b[39mshape,order\u001b[38;5;241m=\u001b[39m\u001b[38;5;124m\"\u001b[39m\u001b[38;5;124mF\u001b[39m\u001b[38;5;124m\"\u001b[39m)\n",
      "\u001b[0;31mNameError\u001b[0m: name 'Vect' is not defined"
     ]
    }
   ],
   "source": [
    "Y = TransmissaoMIMO(H_real,s)\n",
    "Y = Quantizador(Y)\n",
    "H_est = EstimarCanalMS(np.matrix(H_real))\n",
    "s_est = ReceptorZF(H_est,Y)\n"
   ]
  },
  {
   "cell_type": "markdown",
   "id": "3802aea1",
   "metadata": {},
   "source": [
    "## Estimação por MS}"
   ]
  },
  {
   "cell_type": "code",
   "execution_count": 36,
   "id": "68ad2ac3",
   "metadata": {},
   "outputs": [
    {
     "data": {
      "text/plain": [
       "array([[1, 2, 3, 1, 2, 3],\n",
       "       [2, 4, 6, 2, 4, 6],\n",
       "       [3, 6, 9, 3, 6, 9],\n",
       "       [1, 2, 3, 1, 2, 3],\n",
       "       [2, 4, 6, 2, 4, 6],\n",
       "       [3, 6, 9, 3, 6, 9]])"
      ]
     },
     "execution_count": 36,
     "metadata": {},
     "output_type": "execute_result"
    }
   ],
   "source": [
    "a = np.array([1,2,3,1,2,3])\n",
    "\n",
    "np.outer(a,a)"
   ]
  },
  {
   "cell_type": "code",
   "execution_count": null,
   "id": "c0a76a46",
   "metadata": {},
   "outputs": [],
   "source": []
  }
 ],
 "metadata": {
  "kernelspec": {
   "display_name": "Python 3 (ipykernel)",
   "language": "python",
   "name": "python3"
  },
  "language_info": {
   "codemirror_mode": {
    "name": "ipython",
    "version": 3
   },
   "file_extension": ".py",
   "mimetype": "text/x-python",
   "name": "python",
   "nbconvert_exporter": "python",
   "pygments_lexer": "ipython3",
   "version": "3.10.9"
  }
 },
 "nbformat": 4,
 "nbformat_minor": 5
}
