{
 "cells": [
  {
   "cell_type": "markdown",
   "id": "5ef963f6-c316-49f8-a749-69012e02c45c",
   "metadata": {},
   "source": [
    "# Relatório de transmissão digital\n",
    "\n",
    "Transmissão Digital\n",
    "Prof: Diniz\n",
    "\n",
    "Aluno: Fernando Dias\n",
    "\n",
    "Esse relatório tem como objetivo implementar e expandir alguns dos resultados obtidos pelo artigo \"Channel Estimation and Performance Analysis of One-Bit Massive MIMO Systems\". \n",
    "\n",
    "A proposta é avaliar qual o desempenho de um sistema MIMO massivo onde cada antena utiliza um conversor analógico digital de apenas um bit. O processo de estimação de canal se dá por um novo processo proposto pelo artigo que consiste na linearização dos efeitos de quantização em uma expressão estatisticamente equivalente.\n",
    "\n",
    "Esse documento é do tipo `notebook` e o código é interativo e pode ser executado na plataforma `Colab` do google. O link para acesso ao documento é: \n",
    "\n",
    "## 0 - Preparação\n",
    "\n",
    "O primeiro passo é preparar as principais funções a serem utilizadas ao longo desse relatório. As funções consistem em:\n",
    "* Gerar matrizes de canal e matrizes de bits para transmissão\n",
    "* Realizar modulação e demodulação QPSK\n",
    "* Realizar a função de quantização\n",
    "\n",
    "Começaremos o código importando as bibliotecas necessárias:"
   ]
  },
  {
   "cell_type": "code",
   "execution_count": 1,
   "id": "c233910d-8224-4cd9-8980-027258200f97",
   "metadata": {},
   "outputs": [],
   "source": [
    "# Bibliotecas de terceiros\n",
    "import numpy as np # Realiza cálculos matriciais eficientes\n",
    "import scipy as sp # Contém as funções científicas mais comuns\n",
    "import pandas as pd # Cria tabelas para visualização de dados\n",
    "import matplotlib.pyplot as plt # Forma os gráficos \n",
    "import seaborn as sns # Biblioteca para formação rápida de gráficos\n",
    "import pulp as pl # Biblioteca para otimização linear"
   ]
  },
  {
   "cell_type": "markdown",
   "id": "f9c9e999-9a4f-488f-b252-ffc1528abd45",
   "metadata": {},
   "source": [
    "### Geração do canal e dos bits\n",
    "\n",
    "A primeira função é a `GerarCanal(M,K)`. Ela recebe as dimensões do canal e retorna a matriz de canal correspondente. Ela é definida na forma:\n",
    "\n",
    "$$GerarCanal(M,K)\\to H\\in\\mathbb{C}^{M\\times K}\\sim\\mathcal{CN}(0,1)$$\n",
    "\n",
    "Já a segunda é a `GerarBits(K,tamanho)`. Ela gera uma matriz de bits com $K$ colunas e $t$ bits para transmissão. É definida na forma:\n",
    "\n",
    "$$GerarBits(K,\\tau)\\to B\\in[0,1]^{K\\times\\tau}$$"
   ]
  },
  {
   "cell_type": "code",
   "execution_count": 2,
   "id": "5bfa66e4-a71b-49c3-9af3-fa07d721a97e",
   "metadata": {},
   "outputs": [],
   "source": [
    "def GerarCanal(M,K):\n",
    "    \"\"\"\n",
    "    GerarCanal(M,K)\n",
    "    Descrição:\n",
    "        Gera a matriz de canal M*K. Onde M é o número de antenas \n",
    "        receptoras e K o número de antenas transmissoras.\n",
    "    Recebe:\n",
    "        - M: Número de antenas receptoras\n",
    "        - K: Número de antenas transmissoras\n",
    "    Retorna:\n",
    "        - Matriz complexa M*K \n",
    "    \"\"\"\n",
    "    return np.matrix(np.random.normal(0,1,size=(M,K))+1j*np.random.normal(0,1,size=(M,K)))\n",
    "\n",
    "def GerarBits(K,tamanhoMensagem):\n",
    "    \"\"\"\n",
    "    GerarCanal(M,K)\n",
    "    Descrição:\n",
    "        Gera a matriz de canal M*K. Onde M é o número de antenas \n",
    "        receptoras e K o número de antenas transmissoras.\n",
    "    Recebe:\n",
    "        - M: Número de antenas receptoras\n",
    "        - K: Número de antenas transmissoras\n",
    "    Retorna:\n",
    "        - Matriz complexa M*K \n",
    "    \"\"\"\n",
    "    return np.matrix(np.random.choice([0,1],size=(K,tamanhoMensagem)))"
   ]
  },
  {
   "cell_type": "markdown",
   "id": "f60df0d2-f13e-437f-b64f-b3c752b3098e",
   "metadata": {},
   "source": [
    "### (De)modulação e quantização\n",
    "\n",
    "A próxima etapa consiste na definição do modulador e do demodulador QPSK. É trivial assumir que, devido a quantização na recepção, essa é a modulação escolhida. Assim, o demodulador QPSK já tem o processo de decisão que consiste em avaliar o sinal das partes reais e imaginárias do sistema."
   ]
  },
  {
   "cell_type": "code",
   "execution_count": 16,
   "id": "bb9a9211-aecb-4f9c-ba5e-ccaaf0bf256f",
   "metadata": {},
   "outputs": [],
   "source": [
    "\n",
    "def ModuladorQPSK(s):\n",
    "    \"\"\"\n",
    "    ModuladorQPSK(s)\n",
    "    Descrição:\n",
    "        Recebe uma matriz de bits e retorna uma matriz de símbolos modulada em QPSK\n",
    "    Parâmetros:\n",
    "        - s: Matriz de bits\n",
    "    Retorna:\n",
    "        - Matriz de símbolos QPSK de energia unitária\n",
    "    \"\"\"\n",
    "    #if tuple(np.unique(s)) != (0,1):\n",
    "    #    raise Exception(\"Deve receber matriz de bits (0 ou 1)\")\n",
    "        \n",
    "    return (np.where(s==0,-1,1)[:,::2]+1j*np.where(s==0,-1,1)[:,1::2])/np.sqrt(2)\n",
    "\n",
    "def DemoduladorQPSK(s):\n",
    "    \"\"\"\n",
    "    DemoduladorQPSK(s)\n",
    "    Descrição:\n",
    "        Recebe uma matriz de símbolos complexos e retorna a matriz de bits correspondente\n",
    "    Parâmetros:\n",
    "        - s: Matriz de símbolos\n",
    "    Retorna: \n",
    "        - Matriz de bits\n",
    "    \"\"\"\n",
    "    return np.stack([\n",
    "        np.where(np.real(s)>0,1,0), # Faz a decisão com base no sinal do número complexo\n",
    "        np.where(np.imag(s)>0,1,0)\n",
    "    ]).swapaxes(0,1).reshape(s.shape[0],-1,order='F')"
   ]
  },
  {
   "cell_type": "markdown",
   "id": "29f4ffb3-ed28-4ca5-b7a0-3f1358c277dd",
   "metadata": {},
   "source": [
    "Ao invés de explicar passo a passo como as funções acima funcionam, abaixo está uma prova de conceito que prova que os moduladores funcionam."
   ]
  },
  {
   "cell_type": "code",
   "execution_count": 8,
   "id": "d7f0e1ca-286b-4dbd-b100-8970f023592c",
   "metadata": {},
   "outputs": [
    {
     "data": {
      "text/plain": [
       "True"
      ]
     },
     "execution_count": 8,
     "metadata": {},
     "output_type": "execute_result"
    }
   ],
   "source": [
    "# Define as dimensões da matriz de bits\n",
    "K = 1000\n",
    "T = 10000\n",
    "\n",
    "# Matriz de bits aleatória\n",
    "s = np.random.choice([0,1],size=(K,T))\n",
    "\n",
    "# Faz a modulação\n",
    "s_mod = ModuladorQPSK(s)\n",
    "\n",
    "# Faz a demodulação\n",
    "s_demod = DemoduladorQPSK(s_mod)\n",
    "\n",
    "# Retorna true apenas se todos os elementos de s_demod \n",
    "# sao iguais aos de s\n",
    "np.equal(s_demod,s).all()"
   ]
  },
  {
   "cell_type": "markdown",
   "id": "4dc7ad1f-46f2-49cb-a35b-610f06cbb7a1",
   "metadata": {},
   "source": [
    "O próximo passo é a definição do quantizador. A única diferença entre o quantizador e o demodulador QPSK é que o quantizador mantém os símbolos complexos e não converte para bits. Aplicar o demodulador no resultado do quantizador tem o mesmo efeito de aplicar o demodulador diretamente."
   ]
  },
  {
   "cell_type": "code",
   "execution_count": 9,
   "id": "bcccefd5-9530-42b3-b93f-66bf973d6819",
   "metadata": {},
   "outputs": [],
   "source": [
    "def Quantizador(data):\n",
    "    \"\"\"\n",
    "    Quantizador(signal)\n",
    "    Descrição:\n",
    "        Realiza a quantização do sinal recebido. \n",
    "        A quantização é equivalente à modulação QPSK.\n",
    "    Parâmetros:\n",
    "        - signal: O sinal (complexo) a ser quantizado. \n",
    "    Retorna:\n",
    "        - Sinal quantizado. \n",
    "    \"\"\"\n",
    "    return (np.sign(np.real(data))+1j*np.sign(np.imag(data)))/np.sqrt(2)"
   ]
  },
  {
   "cell_type": "markdown",
   "id": "b0503aed-fcc7-461d-a149-86219f9fc988",
   "metadata": {},
   "source": [
    "### Cálculo dos receptores\n",
    "\n",
    "Os receptores considerados no trabalho são dois: O _Maximum Ratio Combining_ (MRC) e o _Zero Forcing_ (ZF). Serão definidas duas funções que retornam os receptores com base na matriz de canal estimado."
   ]
  },
  {
   "cell_type": "code",
   "execution_count": 10,
   "id": "ca4608d0-c658-4732-ad51-355b005f0e25",
   "metadata": {},
   "outputs": [],
   "source": [
    "def ReceptorZF(H_est,signal=None):\n",
    "    \"\"\"\n",
    "    ReceptorZF(H_est,signal)\n",
    "    Calcula o receptor ZF com base no `H_est` e o aplica no `signal`.\n",
    "    Parâmetros:\n",
    "        - H_est: Estimativa do canal para aplicar o receptor\n",
    "        - signal (default=None): Sinal na qual processar o receptor\n",
    "    Retorna:\n",
    "        - Se tiver sinal, \n",
    "            - Retorna o sinal depois de aplicado o receptor\n",
    "        - Se não tiver sinal,\n",
    "            - Retorna a matriz do receptor\n",
    "    \"\"\"\n",
    "    # Error detection\n",
    "    if type(H_est) != np.matrix:\n",
    "        raise Exception(\"H_est type must be matrix\")\n",
    "    \n",
    "    # Calculo do receptor\n",
    "    receptor = np.linalg.inv(np.matmul(H_est.H,H_est))\n",
    "    receptor = np.matmul(receptor,H_est.H)\n",
    "    \n",
    "    if signal:\n",
    "        # Aplicacao do receptor ao resultado\n",
    "        return np.matmul(receptor[np.newaxis,:,:],np.swapaxes(signal,1,0)[:,:,np.newaxis])\n",
    "    \n",
    "    return receptor\n",
    "\n",
    "def ReceptorMRC(H_est,signal=None):\n",
    "    \"\"\"\n",
    "    ReceptorMRC(H_est,signal)\n",
    "    Descrição:\n",
    "        Calcula o receptor MRC com base no `H_est` e o aplica no `signal`, se dado. Caso\n",
    "    Parâmetros:\n",
    "        - H_est: Estimativa do canal para aplicar o receptor\n",
    "        - signal (default=None): Sinal na qual processar o receptor\n",
    "    Retorna:\n",
    "        - Se tiver sinal, \n",
    "            - Retorna o sinal depois de aplicado o receptor\n",
    "        - Se não tiver sinal,\n",
    "            - Retorna a matriz do receptor\n",
    "    \"\"\"\n",
    "    # Error detection\n",
    "    if type(H_est) != np.matrix:\n",
    "        raise Exception(\"H_est type must be matrix\")\n",
    "    \n",
    "    # Calculo do receptor\n",
    "    receptor = H_est.H\n",
    "    \n",
    "    if signal:\n",
    "        # Aplicacao do receptor ao resultado\n",
    "        return np.matmul(receptor[np.newaxis,:,:],np.swapaxes(signal,1,0)[:,:,np.newaxis])\n",
    "    \n",
    "    return receptor"
   ]
  },
  {
   "cell_type": "markdown",
   "id": "dfbaec06-c65c-45a8-a657-4bb73660937c",
   "metadata": {},
   "source": [
    "### Transmissão MIMO\n",
    "\n",
    "Finalmente, será definido o processo de transmissão MIMO. Para isso será definida uma função que simplesmente aplica a fórmula de transmissão:\n",
    "$$\\mathbf{y}=\\sqrt{\\rho}H\\mathbf{s}+\\mathbf{n}$$\n",
    "Para cada execução dessa função, um novo valor de ruído AWGN é calculado."
   ]
  },
  {
   "cell_type": "code",
   "execution_count": 12,
   "id": "bb57693c-37ca-4114-9886-1a81558cda88",
   "metadata": {},
   "outputs": [],
   "source": [
    "def TransmissaoMIMO(H,s,SNR=15):\n",
    "    \"\"\"\n",
    "    TransmissaoMIMO(H,s,power=1,N0=1)\n",
    "    Descrição:\n",
    "        Realiza uma transmissão MIMO pelo canal H especificado \n",
    "        e adiciona um ruído branco e gaussiano no resultado.\n",
    "    Parâmetros:\n",
    "        - H: Canal de dimensão M*K\n",
    "        - s: Sinal com dimensões K*(message length)\n",
    "        - SNR: Signal to Noise Ratio em dB (default 15)\n",
    "    Retorna:\n",
    "        - y: Sinal recebido de dimensões M*(message length)\n",
    "    \"\"\"\n",
    "    # Cálculo do ruído a ser aplicado\n",
    "    noise = np.random.normal(0,1,size=(H.shape[0],s.shape[1]))\n",
    "\n",
    "    # Retorna resultado da transmissão\n",
    "    return (np.sqrt(10**(SNR/20)))*np.matmul(H,s) + noise"
   ]
  },
  {
   "cell_type": "markdown",
   "id": "84cb65c5-1109-42df-a694-b1a2e00a64b8",
   "metadata": {},
   "source": [
    "Para demonstrar o que foi obtido até então. Será simulado um processo de comunicação MIMO para um caso simples, com $M=16$ antenas e $K=4$ usuários para diferentes níveis de SNR e será calculado o BER."
   ]
  },
  {
   "cell_type": "code",
   "execution_count": null,
   "id": "88e5a839-f39b-4b7c-b236-a5f3523c09aa",
   "metadata": {},
   "outputs": [],
   "source": [
    "# Definição dos parâmetros de simulação\n",
    "M = 16\n",
    "K = 4\n",
    "tamanhoBits = 10**(7)\n",
    "repeticoes = 10\n",
    "\n",
    "resultados = pd.DataFrame([]) # Tabela para armazenamento dos resultados\n",
    "\n",
    "# Repete a simulação para valores entre -20 e 20 de SNR, com passo 5\n",
    "for SNR in range(-20,25,5):\n",
    "    # Calcula o H_real\n",
    "    H_real = GerarCanal(M,K)\n",
    "    # Calcula os receptores ZF e MRC e coloca em um dicionário\n",
    "    receptores = {\"ZF\":ReceptorZF(H_real),\"MRC\":ReceptorMRC(H_real)}\n",
    "    # Repete mais 100 vezes a transmissão para alcançar valores maiores de BER\n",
    "    BE = {\"ZF\":0,\"MRC\":0}\n",
    "    for i in range(repeticoes):\n",
    "        # Gera os bits para transmissão\n",
    "        b = GerarBits(K,tamanhoBits)\n",
    "        # Modula QPSK\n",
    "        s = ModuladorQPSK(b)\n",
    "        # Faz a transmissão pelo canal\n",
    "        y = TransmissaoMIMO(H_real,s)\n",
    "        # Faz a recepção do sinal recebido por ambos os receptores\n",
    "        for receptor in ['ZF','MRC']:\n",
    "            b_est = receptores[receptor]@y\n",
    "            b_est = DemoduladorQPSK(b_est)\n",
    "            BE[receptor] += np.sum(np.abs(b_est-b))\n",
    "    # Calcula o BER     \n",
    "    BE['ZF'] /=(repeticoes*K*tamanhoBits)\n",
    "    BE['MRC'] /=(repeticoes*K*tamanhoBits)\n",
    "    resultados = pd.concat([resultados,pd.DataFrame(\n",
    "        {\n",
    "            'SNR':[SNR,SNR],\n",
    "            'Receptor':[\"ZF\",\"MRC\"],\n",
    "            \"BER\":[BE['ZF'],BE['MRC']]\n",
    "        }\n",
    "    )],ignore_index=True)"
   ]
  },
  {
   "cell_type": "code",
   "execution_count": null,
   "id": "a3ef0de7-5b8f-473d-ab19-3a3d3b125a4a",
   "metadata": {},
   "outputs": [],
   "source": [
    "sns.lineplot(data=resultados,x=\"SNR\",y=\"BER\",hue=\"Receptor\")\n",
    "plt.yscale('log')"
   ]
  },
  {
   "cell_type": "code",
   "execution_count": null,
   "id": "29489a6f-3cd8-4fc9-8679-7f650e70632d",
   "metadata": {},
   "outputs": [],
   "source": [
    "resultados"
   ]
  },
  {
   "cell_type": "markdown",
   "id": "3d12ea37-2790-471a-9fcd-1e58a445b93d",
   "metadata": {},
   "source": [
    "## 1 - Estimação de "
   ]
  }
 ],
 "metadata": {
  "kernelspec": {
   "display_name": "Python 3 (ipykernel)",
   "language": "python",
   "name": "python3"
  },
  "language_info": {
   "codemirror_mode": {
    "name": "ipython",
    "version": 3
   },
   "file_extension": ".py",
   "mimetype": "text/x-python",
   "name": "python",
   "nbconvert_exporter": "python",
   "pygments_lexer": "ipython3",
   "version": "3.8.17"
  }
 },
 "nbformat": 4,
 "nbformat_minor": 5
}
