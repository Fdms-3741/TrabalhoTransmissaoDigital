{
 "cells": [
  {
   "cell_type": "markdown",
   "id": "5ef963f6-c316-49f8-a749-69012e02c45c",
   "metadata": {},
   "source": [
    "# Relatório parcial de transmissão digital\n",
    "Transmissão Digital - Prof: Diniz\n",
    "\n",
    "Aluno: Fernando Dias\n",
    "\n",
    "Esse relatório tem como objetivo implementar e expandir alguns dos resultados obtidos pelo artigo \"Channel Estimation and Performance Analysis of One-Bit Massive MIMO Systems\". \n",
    "\n",
    "A proposta é avaliar qual o desempenho de um sistema MIMO massivo onde cada antena utiliza um conversor analógico digital de apenas um bit. O processo de estimação de canal se dá por um novo processo proposto pelo artigo que consiste na linearização dos efeitos de quantização em uma expressão estatisticamente equivalente.\n",
    "\n",
    "Esse documento é do tipo `notebook` e o código é interativo e pode ser executado na plataforma `Colab` do google. O link para acesso ao documento é: \n",
    "\n",
    "## 0 - Preparação\n",
    "\n",
    "O primeiro passo é preparar as principais funções a serem utilizadas ao longo desse relatório. As funções consistem em:\n",
    "* Gerar matrizes de canal e matrizes de bits para transmissão\n",
    "* Realizar modulação e demodulação QPSK\n",
    "* Realizar a função de quantização\n",
    "\n",
    "Começaremos o código importando as bibliotecas necessárias:"
   ]
  },
  {
   "cell_type": "code",
   "execution_count": 1,
   "id": "c233910d-8224-4cd9-8980-027258200f97",
   "metadata": {},
   "outputs": [],
   "source": [
    "# Bibliotecas de terceiros\n",
    "import numpy as np # Realiza cálculos matriciais eficientes\n",
    "import scipy as sp # Contém as funções científicas mais comuns\n",
    "import pandas as pd # Cria tabelas para visualização de dados\n",
    "import matplotlib.pyplot as plt # Forma os gráficos \n",
    "import seaborn as sns # Biblioteca para formação rápida de gráficos\n",
    "import cvxpy as cvx # Biblioteca para otimização convexa"
   ]
  },
  {
   "cell_type": "markdown",
   "id": "f9c9e999-9a4f-488f-b252-ffc1528abd45",
   "metadata": {},
   "source": [
    "### Geração do canal e dos bits\n",
    "\n",
    "A primeira função é a `GerarCanal(M,K)`. Ela recebe as dimensões do canal e retorna a matriz de canal correspondente. Ela é definida na forma:\n",
    "\n",
    "$$GerarCanal(M,K)\\to H\\in\\mathbb{C}^{M\\times K}\\sim\\mathcal{CN}(0,1)$$\n",
    "\n",
    "Já a segunda é a `GerarBits(K,tamanho)`. Ela gera uma matriz de bits com $K$ colunas e $t$ bits para transmissão. É definida na forma:\n",
    "\n",
    "$$GerarBits(K,\\tau)\\to B\\in[0,1]^{K\\times\\tau}$$"
   ]
  },
  {
   "cell_type": "code",
   "execution_count": 2,
   "id": "5bfa66e4-a71b-49c3-9af3-fa07d721a97e",
   "metadata": {},
   "outputs": [],
   "source": [
    "def GerarCanal(M,K):\n",
    "    \"\"\"\n",
    "    GerarCanal(M,K)\n",
    "    Descrição:\n",
    "        Gera a matriz de canal M*K. Onde M é o número de antenas \n",
    "        receptoras e K o número de antenas transmissoras.\n",
    "    Recebe:\n",
    "        - M: Número de antenas receptoras\n",
    "        - K: Número de antenas transmissoras\n",
    "    Retorna:\n",
    "        - Matriz complexa M*K \n",
    "    \"\"\"\n",
    "    return np.matrix(np.random.normal(0,1,size=(M,K))+1j*np.random.normal(0,1,size=(M,K)))\n",
    "\n",
    "def GerarBits(K,tamanhoMensagem):\n",
    "    \"\"\"\n",
    "    GerarCanal(M,K)\n",
    "    Descrição:\n",
    "        Gera a matriz de canal M*K. Onde M é o número de antenas \n",
    "        receptoras e K o número de antenas transmissoras.\n",
    "    Recebe:\n",
    "        - M: Número de antenas receptoras\n",
    "        - K: Número de antenas transmissoras\n",
    "    Retorna:\n",
    "        - Matriz complexa M*K \n",
    "    \"\"\"\n",
    "    return np.matrix(np.random.choice([0,1],size=(K,tamanhoMensagem)))"
   ]
  },
  {
   "cell_type": "markdown",
   "id": "f60df0d2-f13e-437f-b64f-b3c752b3098e",
   "metadata": {},
   "source": [
    "### (De)modulação e quantização\n",
    "\n",
    "A próxima etapa consiste na definição do modulador e do demodulador QPSK. É trivial assumir que, devido a quantização na recepção, essa é a modulação escolhida. Assim, o demodulador QPSK já tem o processo de decisão que consiste em avaliar o sinal das partes reais e imaginárias do sistema."
   ]
  },
  {
   "cell_type": "code",
   "execution_count": 3,
   "id": "bb9a9211-aecb-4f9c-ba5e-ccaaf0bf256f",
   "metadata": {},
   "outputs": [],
   "source": [
    "def ModuladorQPSK(s):\n",
    "    \"\"\"\n",
    "    ModuladorQPSK(s)\n",
    "    Descrição:\n",
    "        Recebe uma matriz de bits e retorna uma matriz de símbolos modulada em QPSK\n",
    "    Parâmetros:\n",
    "        - s: Matriz de bits\n",
    "    Retorna:\n",
    "        - Matriz de símbolos QPSK de energia unitária\n",
    "    \"\"\"\n",
    "    #if tuple(np.unique(s)) != (0,1):\n",
    "    #    raise Exception(\"Deve receber matriz de bits (0 ou 1)\")\n",
    "        \n",
    "    return (np.where(s==0,-1,1)[:,::2]+1j*np.where(s==0,-1,1)[:,1::2])/np.sqrt(2)\n",
    "\n",
    "def DemoduladorQPSK(s):\n",
    "    \"\"\"\n",
    "    DemoduladorQPSK(s)\n",
    "    Descrição:\n",
    "        Recebe uma matriz de símbolos complexos e retorna a matriz de bits correspondente\n",
    "    Parâmetros:\n",
    "        - s: Matriz de símbolos\n",
    "    Retorna: \n",
    "        - Matriz de bits\n",
    "    \"\"\"\n",
    "    return np.stack([\n",
    "        np.where(np.real(s)>0,1,0), # Faz a decisão com base no sinal do número complexo\n",
    "        np.where(np.imag(s)>0,1,0)\n",
    "    ]).swapaxes(0,1).reshape(s.shape[0],-1,order='F')"
   ]
  },
  {
   "cell_type": "markdown",
   "id": "29f4ffb3-ed28-4ca5-b7a0-3f1358c277dd",
   "metadata": {},
   "source": [
    "Ao invés de explicar passo a passo como as funções acima funcionam, abaixo está uma prova de conceito que prova que os moduladores funcionam."
   ]
  },
  {
   "cell_type": "code",
   "execution_count": 4,
   "id": "d7f0e1ca-286b-4dbd-b100-8970f023592c",
   "metadata": {},
   "outputs": [
    {
     "data": {
      "text/plain": [
       "True"
      ]
     },
     "execution_count": 4,
     "metadata": {},
     "output_type": "execute_result"
    }
   ],
   "source": [
    "# Define as dimensões da matriz de bits\n",
    "K = 1000\n",
    "T = 10000\n",
    "\n",
    "# Matriz de bits aleatória\n",
    "s = np.random.choice([0,1],size=(K,T))\n",
    "\n",
    "# Faz a modulação\n",
    "s_mod = ModuladorQPSK(s)\n",
    "\n",
    "# Faz a demodulação\n",
    "s_demod = DemoduladorQPSK(s_mod)\n",
    "\n",
    "# Retorna true apenas se todos os elementos de s_demod \n",
    "# sao iguais aos de s\n",
    "np.equal(s_demod,s).all()"
   ]
  },
  {
   "cell_type": "markdown",
   "id": "4dc7ad1f-46f2-49cb-a35b-610f06cbb7a1",
   "metadata": {},
   "source": [
    "O próximo passo é a definição do quantizador. A única diferença entre o quantizador e o demodulador QPSK é que o quantizador mantém os símbolos complexos e não converte para bits. Aplicar o demodulador no resultado do quantizador tem o mesmo efeito de aplicar o demodulador diretamente."
   ]
  },
  {
   "cell_type": "code",
   "execution_count": 5,
   "id": "bcccefd5-9530-42b3-b93f-66bf973d6819",
   "metadata": {},
   "outputs": [],
   "source": [
    "def Quantizador(data):\n",
    "    \"\"\"\n",
    "    Quantizador(signal)\n",
    "    Descrição:\n",
    "        Realiza a quantização do sinal recebido. \n",
    "        A quantização é equivalente à modulação QPSK.\n",
    "    Parâmetros:\n",
    "        - signal: O sinal (complexo) a ser quantizado. \n",
    "    Retorna:\n",
    "        - Sinal quantizado. \n",
    "    \"\"\"\n",
    "    return ( np.sign(np.real(data)) + 1j * np.sign(np.imag(data)) ) / np.sqrt(2)"
   ]
  },
  {
   "cell_type": "markdown",
   "id": "b0503aed-fcc7-461d-a149-86219f9fc988",
   "metadata": {},
   "source": [
    "### Cálculo dos receptores\n",
    "\n",
    "Os receptores considerados no trabalho são dois: O _Maximum Ratio Combining_ (MRC) e o _Zero Forcing_ (ZF). Serão definidas duas funções que retornam os receptores com base na matriz de canal estimado.\n",
    "\n",
    "Os receptores são definidos de forma idêntica as equações (39) e (40) do artigo."
   ]
  },
  {
   "cell_type": "code",
   "execution_count": 6,
   "id": "ca4608d0-c658-4732-ad51-355b005f0e25",
   "metadata": {},
   "outputs": [],
   "source": [
    "def ReceptorZF(H_est,signal=None):\n",
    "    \"\"\"\n",
    "    ReceptorZF(H_est,signal)\n",
    "    Calcula o receptor ZF com base no `H_est` e o aplica no `signal`.\n",
    "    Parâmetros:\n",
    "        - H_est: Estimativa do canal para aplicar o receptor\n",
    "        - signal (default=None): Sinal na qual processar o receptor\n",
    "    Retorna:\n",
    "        - Se tiver sinal, \n",
    "            - Retorna o sinal depois de aplicado o receptor\n",
    "        - Se não tiver sinal,\n",
    "            - Retorna a matriz do receptor\n",
    "    \"\"\"\n",
    "    # Detecta erros\n",
    "    if type(H_est) != np.matrix:\n",
    "        raise Exception(\"H_est tem que ser do tipo np.matrix\")\n",
    "    \n",
    "    # Calculo do receptor\n",
    "    receptor = np.linalg.inv(H_est.H@H_est)@H_est.H\n",
    "    \n",
    "    if not type(signal) is None:\n",
    "    # Aplicacao do receptor ao resultado\n",
    "        return receptor@signal\n",
    "    \n",
    "    return receptor\n",
    "\n",
    "def ReceptorMRC(H_est,signal=None):\n",
    "    \"\"\"\n",
    "    ReceptorMRC(H_est,signal)\n",
    "    Descrição:\n",
    "        Calcula o receptor MRC com base no `H_est` e o aplica no `signal`, se dado. Caso\n",
    "    Parâmetros:\n",
    "        - H_est: Estimativa do canal para aplicar o receptor\n",
    "        - signal (default=None): Sinal na qual processar o receptor\n",
    "    Retorna:\n",
    "        - Se tiver sinal, \n",
    "            - Retorna o sinal depois de aplicado o receptor\n",
    "        - Se não tiver sinal,\n",
    "            - Retorna a matriz do receptor\n",
    "    \"\"\"\n",
    "    # Detecção de erro\n",
    "    if type(H_est) != np.matrix:\n",
    "        raise Exception(\"H_est deve ser do tipo np.matrix\")\n",
    "    \n",
    "    # Calculo do receptor\n",
    "    receptor = H_est.H\n",
    "    \n",
    "    if not type(signal) is None:\n",
    "        # Aplicacao do receptor ao resultado\n",
    "        return receptor@signal\n",
    "    \n",
    "    return receptor"
   ]
  },
  {
   "cell_type": "markdown",
   "id": "dfbaec06-c65c-45a8-a657-4bb73660937c",
   "metadata": {},
   "source": [
    "### Transmissão MIMO\n",
    "\n",
    "Finalmente, será definido o processo de transmissão MIMO. Para isso será definida uma função que simplesmente aplica a fórmula de transmissão:\n",
    "$$\\mathbf{y}=\\sqrt{\\rho}H\\mathbf{s}+\\mathbf{n}$$\n",
    "Para cada execução dessa função, um novo valor de ruído AWGN é calculado.\n",
    "\n",
    "Para converter o SNR para o $\\sqrt{\\rho}$ do artigo, fez-se a conversão do valor em dB para linear pela relação \n",
    "\n",
    "$$\\text{SNR}^{[\\text{linear}]}=10^{\\frac{\\text{SNR}^{[\\text{dB}]}}{10}}$$\n",
    "\n",
    "já que a relação é de amplitude entre os termos. Finalmente, a potência é dividida entre os $K$ usuários. Assim $$\\rho_d=\\frac{\\text{SNR}^{[\\text{linear}]}}{K}$$\n",
    "\n",
    "Essa dinâmica está representada na função `dB2linear` abaixo."
   ]
  },
  {
   "cell_type": "code",
   "execution_count": 7,
   "id": "1814ec02-2ab8-43f2-acab-271258cf6746",
   "metadata": {},
   "outputs": [],
   "source": [
    "def CalcularRho(SNR,K):\n",
    "    \"\"\"\n",
    "    CalcularRhoD(SNR,K)\n",
    "    Descrição:\n",
    "        Calcula o valor de rho_d a partir do valor SNR da transmissão e divide entre os usuários.\n",
    "    Parâmetros: \n",
    "        - SNR: Relação sinal ruído\n",
    "        - K: Número de usuários\n",
    "    \"\"\"\n",
    "    return (np.sqrt(10**(SNR/10)))#/K"
   ]
  },
  {
   "cell_type": "code",
   "execution_count": 8,
   "id": "bb57693c-37ca-4114-9886-1a81558cda88",
   "metadata": {},
   "outputs": [],
   "source": [
    "def TransmissaoMIMO(H,s,SNR=15):\n",
    "    \"\"\"\n",
    "    TransmissaoMIMO(H,s,power=1,N0=1)\n",
    "    Descrição:\n",
    "        Realiza uma transmissão MIMO pelo canal H especificado \n",
    "        e adiciona um ruído branco e gaussiano no resultado.\n",
    "    Parâmetros:\n",
    "        - H: Canal de dimensão M*K\n",
    "        - s: Sinal com dimensões K*(message length)\n",
    "        - SNR: Signal to Noise Ratio em dB (default 15)\n",
    "    Retorna:\n",
    "        - y: Sinal recebido de dimensões M*(message length)\n",
    "    \"\"\"\n",
    "    # Cálculo do ruído a ser aplicado\n",
    "    noise = np.random.normal(0,1,size=(H.shape[0],s.shape[1]))\n",
    "\n",
    "    # Divide a potência entre todos os usuários\n",
    "    rho = CalcularRho(SNR,H.shape[1])\n",
    "    \n",
    "    # Retorna resultado da transmissão, divide o ruído pelo SNR\n",
    "    return np.sqrt(rho)*np.matmul(H,s) + noise"
   ]
  },
  {
   "cell_type": "markdown",
   "id": "84cb65c5-1109-42df-a694-b1a2e00a64b8",
   "metadata": {},
   "source": [
    "Para demonstrar o que foi obtido até então. Será simulado um processo de comunicação MIMO para um caso simples, com $M=16$ antenas e $K=4$ usuários para diferentes níveis de SNR e será calculado o BER.\n",
    "\n",
    "## Prova de conceito de transmissão MIMO"
   ]
  },
  {
   "cell_type": "code",
   "execution_count": 9,
   "id": "7a1e56e8",
   "metadata": {},
   "outputs": [
    {
     "name": "stdout",
     "output_type": "stream",
     "text": [
      "BER:  0.07127500000000002\n"
     ]
    }
   ],
   "source": [
    "quantizar = True\n",
    "quantidadeBits = 20\n",
    "SNR = 10 \n",
    "M = 4\n",
    "K = 2\n",
    "\n",
    "# Repete o experimento 1000 vezes\n",
    "BERList = []\n",
    "for i in range(1000):\n",
    "    # Gera o canal\n",
    "    H = GerarCanal(M,K)\n",
    "    W = np.linalg.inv(H.H@H)@H.H # Maximum ratio combining\n",
    "\n",
    "    # Gera os bits e símbolos\n",
    "    b = GerarBits(K,quantidadeBits)\n",
    "    s = ModuladorQPSK(b)\n",
    "\n",
    "    # Faz a transmissão \n",
    "    y = TransmissaoMIMO(H,s,SNR=SNR)\n",
    "\n",
    "    # Faz a quantização\n",
    "    r = Quantizador(y) if quantizar else y\n",
    "    s_est = W@r\n",
    "\n",
    "    # Demodula o sinal para bits\n",
    "    b_est = DemoduladorQPSK(s_est)\n",
    "\n",
    "    # Calcula o BER\n",
    "    BER = np.sum(np.abs(b_est-b))/(b_est.shape[0]*b_est.shape[1])\n",
    "    \n",
    "    BERList.append(BER)\n",
    "\n",
    "# Retorna os resultados\n",
    "#print(\"Canal:\\n\",H)\n",
    "#print(\"Receptor:\\n\",W)\n",
    "#print(\"bits:\\n\",b)\n",
    "#print(\"Transmissão:\\n\",y)\n",
    "#print(\"Quantizado:\\n\",r)\n",
    "#print(\"bits estimados:\\n\",b_est)\n",
    "print(\"BER: \",sum(BERList)/len(BERList))"
   ]
  },
  {
   "cell_type": "markdown",
   "id": "b4c42a58",
   "metadata": {},
   "source": [
    "## Experimento 1: BER de uma transmissão MIMO sem quantização"
   ]
  },
  {
   "cell_type": "code",
   "execution_count": 11,
   "id": "88e5a839-f39b-4b7c-b236-a5f3523c09aa",
   "metadata": {},
   "outputs": [
    {
     "name": "stderr",
     "output_type": "stream",
     "text": [
      "\n",
      "KeyboardInterrupt\n",
      "\n"
     ]
    }
   ],
   "source": [
    "%%time\n",
    "# Determina o tempo de execução\n",
    "\n",
    "# Definição dos parâmetros de simulação\n",
    "M = 6 # Numero de antenas receptoras\n",
    "K = 2 # Número de antenas transmissoras\n",
    "repeticoesExper = 50 # Vezes que o experimento é repetido\n",
    "\n",
    "# Define tamanho dos bits a transmitir\n",
    "tamanhoBits = 10**(7)\n",
    "repeticoesComms = 1 # Faz mais transmissões caso a matriz lote a RAM\n",
    "\n",
    "resultados = pd.DataFrame([]) # Tabela para armazenamento dos resultados\n",
    "\n",
    "for reps in range(repeticoesExper):\n",
    "    # Repete a simulação para valores entre -20 e 20 de SNR, com passo 5\n",
    "    H_real = GerarCanal(M,K)\n",
    "    for SNR in range(-20,25,5):\n",
    "        # Calcula o H_real\n",
    "        # Calcula os receptores ZF e MRC e coloca em um dicionário\n",
    "        receptores = {\"ZF\":ReceptorZF,\"MRC\":ReceptorMRC}\n",
    "        BE = {}\n",
    "        # Repete mais 100 vezes a transmissão para alcançar valores maiores de BER\n",
    "        for i in range(repeticoesComms):\n",
    "            # Gera os bits para transmissão\n",
    "            b = GerarBits(K,tamanhoBits)\n",
    "            # Modula QPSK\n",
    "            s = ModuladorQPSK(b)\n",
    "            # Faz a transmissão pelo canal\n",
    "            y = TransmissaoMIMO(H_real,s,SNR=SNR)\n",
    "            # Faz a recepção do sinal recebido por ambos os receptores\n",
    "            for receptor in ['ZF','MRC']:\n",
    "                # Aplica o receptor ao sinal recebido\n",
    "                b_est = receptores[receptor](H_real,y)#,quantizado=False)\n",
    "                # Faz a demodulação do sinal recebido\n",
    "                b_est = DemoduladorQPSK(b_est)\n",
    "                # Cria nova entrada na lista de resultados caso não exista\n",
    "                idResultado = (receptor,)\n",
    "                if not idResultado in BE.keys():     \n",
    "                    BE[idResultado] = 0\n",
    "                # Soma a diferença dos bits recebidos\n",
    "                BE[idResultado] += np.sum(np.abs(b_est-b))\n",
    "        \n",
    "        # Após a soma, calcula o BER\n",
    "        BER = {}\n",
    "        for key,val in BE.items():\n",
    "            BER[key] = BE[key]/(repeticoesComms*K*tamanhoBits)\n",
    "        \n",
    "        # Adiciona os resultados a uma tabela de resultados\n",
    "        resultados = pd.concat([resultados,pd.DataFrame(\n",
    "            {\n",
    "                'SNR':[SNR]*len(BE),\n",
    "                'Receptor':[i[0] for i in BE.keys()],\n",
    "                \"BER\":[BER[i] for i in BE.keys()]\n",
    "            }\n",
    "        )],ignore_index=True)\n",
    "\n",
    "del H_real, b, s, b_est, y"
   ]
  },
  {
   "cell_type": "markdown",
   "id": "e9cb81b0-535a-4623-aded-51ddcd2d0440",
   "metadata": {},
   "source": [
    "O processo de formação da tabela com a biblioteca `Pandas` apenas permite que diversas simulações com parâmetros diferentes possam ser agregadas em uma única fonte de resultados que pode servir para fazer diferentes comparações. Abaixo mostra-se um exemplo de como é o formato da tabela:"
   ]
  },
  {
   "cell_type": "code",
   "execution_count": 10,
   "id": "d4843fb5-8740-4f14-a8b1-ae565f57287e",
   "metadata": {},
   "outputs": [
    {
     "data": {
      "text/html": [
       "<div>\n",
       "<style scoped>\n",
       "    .dataframe tbody tr th:only-of-type {\n",
       "        vertical-align: middle;\n",
       "    }\n",
       "\n",
       "    .dataframe tbody tr th {\n",
       "        vertical-align: top;\n",
       "    }\n",
       "\n",
       "    .dataframe thead th {\n",
       "        text-align: right;\n",
       "    }\n",
       "</style>\n",
       "<table border=\"1\" class=\"dataframe\">\n",
       "  <thead>\n",
       "    <tr style=\"text-align: right;\">\n",
       "      <th></th>\n",
       "      <th>SNR</th>\n",
       "      <th>Receptor</th>\n",
       "      <th>BER</th>\n",
       "    </tr>\n",
       "  </thead>\n",
       "  <tbody>\n",
       "    <tr>\n",
       "      <th>0</th>\n",
       "      <td>-20</td>\n",
       "      <td>ZF</td>\n",
       "      <td>0.249760</td>\n",
       "    </tr>\n",
       "    <tr>\n",
       "      <th>1</th>\n",
       "      <td>-20</td>\n",
       "      <td>MRC</td>\n",
       "      <td>0.247023</td>\n",
       "    </tr>\n",
       "    <tr>\n",
       "      <th>2</th>\n",
       "      <td>-15</td>\n",
       "      <td>ZF</td>\n",
       "      <td>0.153499</td>\n",
       "    </tr>\n",
       "    <tr>\n",
       "      <th>3</th>\n",
       "      <td>-15</td>\n",
       "      <td>MRC</td>\n",
       "      <td>0.154570</td>\n",
       "    </tr>\n",
       "  </tbody>\n",
       "</table>\n",
       "</div>"
      ],
      "text/plain": [
       "   SNR Receptor       BER\n",
       "0  -20       ZF  0.249760\n",
       "1  -20      MRC  0.247023\n",
       "2  -15       ZF  0.153499\n",
       "3  -15      MRC  0.154570"
      ]
     },
     "execution_count": 10,
     "metadata": {},
     "output_type": "execute_result"
    }
   ],
   "source": [
    "resultados.iloc[:4]"
   ]
  },
  {
   "cell_type": "markdown",
   "id": "eb7ca2d1-70d9-456f-8507-912dd834f580",
   "metadata": {},
   "source": [
    "E esse formato é integrado com a biblioteca `Seaborn` para rapidamente gerar gráficos que visualizam esses dados, como pode ser visto no exemplo abaixo.\n",
    "\n",
    "Futuras operações de formação de tabelas e gráficos serão ignoradas e a atenção será voltada para o gráfico diretamente."
   ]
  },
  {
   "cell_type": "code",
   "execution_count": 11,
   "id": "a3ef0de7-5b8f-473d-ab19-3a3d3b125a4a",
   "metadata": {},
   "outputs": [
    {
     "data": {
      "text/plain": [
       "Text(0.5, 1.0, 'BER para MIMO sem quantização e estimação')"
      ]
     },
     "execution_count": 11,
     "metadata": {},
     "output_type": "execute_result"
    },
    {
     "data": {
      "image/png": "[encoded data removed]",
      "text/plain": [
       "<Figure size 580.75x500 with 1 Axes>"
      ]
     },
     "metadata": {},
     "output_type": "display_data"
    }
   ],
   "source": [
    "sns.relplot(data=resultados,x=\"SNR\",y=\"BER\",hue=\"Receptor\",kind='line')\n",
    "plt.yscale('log')\n",
    "plt.title(\"BER para MIMO sem quantização e estimação\")"
   ]
  },
  {
   "cell_type": "markdown",
   "id": "ddbfe379-120e-42cd-b84b-39c330e9d9d2",
   "metadata": {},
   "source": [
    "O gráfico acima mostra 10 realizações da simulação e mostra as curvas obtidas para o BER de ambos os tipos de receptores para o caso sem estimação e sem quantização. Podemos ver que o receptor ZF tem uma vantagem em cima do receptor MRC em condições de baixo SNR."
   ]
  },
  {
   "cell_type": "markdown",
   "id": "f939c59c-f3f2-453b-b03a-2cadcc31ae3b",
   "metadata": {},
   "source": [
    "# Experimento 2: Transmissão MIMO com variação do número de antenas receptoras\n",
    "\n",
    "Vamos fazer um novo experimento que, para o mesmo SNR baixo, verifica a variação no desempenho de recepção dos dois receptores com o aumento no número de antenas receptoras."
   ]
  },
  {
   "cell_type": "code",
   "execution_count": 12,
   "id": "9c47185e-f333-4f9b-86b3-54b7dd3509e9",
   "metadata": {},
   "outputs": [
    {
     "name": "stdout",
     "output_type": "stream",
     "text": [
      "CPU times: user 2min 52s, sys: 1min 32s, total: 4min 25s\n",
      "Wall time: 1min 26s\n"
     ]
    }
   ],
   "source": [
    "%%time\n",
    "\n",
    "# Parâmetros do experimento\n",
    "repeticoesExper = 5\n",
    "SNR = 0\n",
    "K = 4 # Número de usuários\n",
    "tamanhoMensagem = 10**7\n",
    "\n",
    "Receptores = {\n",
    "    \"ZF\":ReceptorZF,\n",
    "    \"MRC\":ReceptorMRC\n",
    "}\n",
    "resultados = pd.DataFrame([])\n",
    "\n",
    "# Repete o experimento múltiplas vezes\n",
    "for i in range(repeticoesExper):\n",
    "    for M in [4,8,16,32]:\n",
    "        # Criação do canal e bits\n",
    "        H_real = GerarCanal(M,K)\n",
    "        b = GerarBits(K,tamanhoMensagem)\n",
    "        s = ModuladorQPSK(b)\n",
    "        # Faz a transmissão\n",
    "        y = TransmissaoMIMO(H_real,s)\n",
    "        # Faz a recepção para cada Receptor avaliado e calcula o BER\n",
    "        BER = {}\n",
    "        for receptor in Receptores.keys():\n",
    "            if not receptor in BER.keys():\n",
    "                BER[receptor] = 0\n",
    "            b_est = DemoduladorQPSK(Receptores[receptor](H_real,y))\n",
    "            BER[receptor] = np.sum(np.abs(b_est-b))/(b.shape[0]*b.shape[1])\n",
    "        # Salva o resultado na tabela\n",
    "        resultados = pd.concat([resultados,\n",
    "            pd.DataFrame({\"2^M\":[np.log2(M),np.log2(M)],\"Receptor\":['ZF','MRC'],\"BER\":[BER['ZF'],BER['MRC']]})\n",
    "        ])\n",
    "del H_real, b, b_est, y"
   ]
  },
  {
   "cell_type": "code",
   "execution_count": 13,
   "id": "5832398e-6062-496b-b35f-35b551205f30",
   "metadata": {},
   "outputs": [
    {
     "data": {
      "text/plain": [
       "Text(0.5, 1.0, 'Variação do BER com o número de antenas receptoras M')"
      ]
     },
     "execution_count": 13,
     "metadata": {},
     "output_type": "execute_result"
    },
    {
     "data": {
      "image/png": "[encoded data removed]",
      "text/plain": [
       "<Figure size 580.75x500 with 1 Axes>"
      ]
     },
     "metadata": {},
     "output_type": "display_data"
    }
   ],
   "source": [
    "sns.relplot(data=resultados,x='2^M',y='BER',hue='Receptor',kind='line')\n",
    "_ = plt.yscale('log')\n",
    "_ = plt.xticks([2,3,4,5])\n",
    "plt.title(\"Variação do BER com o número de antenas receptoras M\")"
   ]
  },
  {
   "cell_type": "markdown",
   "id": "c675070c-859c-4dd8-a3a9-eb91ea18ff57",
   "metadata": {},
   "source": [
    "Vemos que o desempenho de recepção melhora com o número de antenas receptoras. Outro resultado já esperado segundo a teoria do MIMO."
   ]
  },
  {
   "cell_type": "markdown",
   "id": "3d12ea37-2790-471a-9fcd-1e58a445b93d",
   "metadata": {},
   "source": [
    "## 1 - Estimação de canal\n",
    "\n",
    "A estimação de canal consiste em obter $\\hat H$ a partir do canal $H$. Para isso, serão utilizados os seguintes estimadores:\n",
    "\n",
    "* `EstimarCanalMS`: Faz a estimação por mínimos quadradoas do canal supondo que o canal é linear.\n",
    "    * Será calculado `MS` e `MS-Quant` para as estimações feitas em uma transmissão sem quantização e com quantização, respectivamente.\n",
    "* `EstimarCanalAQN`: Faz a estimação seguindo o modelo de Bussgang só que sempre supondo que $\\tau=K$.\n",
    "* `EstimarCanalBussgang`: É o estimador proposto na equação (15).\n",
    "\n",
    "O processo de estimação consiste em fazer uma transmissão de valores piloto e observar a matriz de símbolos recebidos. Para os estimadores de Bussgang e o AQN, preferiu-se por utilizar a função de quantização diretamente ao invés de utilizar os modelos para ser justo e testar a proposta dos estimadores, que devem ter desempenhos melhores devido ao fundamento probabilístico na definição de suas equações.\n",
    "\n",
    "A matriz $A_p$, definida na equação (6) e calculada na (7), possui uma simplificação quando a sequência piloto escolhida é a matriz de DFT truncada, demonstrada na equação (11). Será escolhida dessa forma as sequências piloto para todos os estimadores.\n",
    "\n",
    "São definidas duas funções auxiliares para os estimadores: As funções `Vect` e `AutoCorr` definidas abaixo:"
   ]
  },
  {
   "cell_type": "code",
   "execution_count": 10,
   "id": "674fb1a4-9eb3-4415-af6b-c2471238d3c3",
   "metadata": {},
   "outputs": [
    {
     "data": {
      "text/plain": [
       "array([1, 2, 3, 4, 5, 6, 7, 8, 9])"
      ]
     },
     "execution_count": 10,
     "metadata": {},
     "output_type": "execute_result"
    }
   ],
   "source": [
    "def Vect(Matriz):\n",
    "    \"\"\"\n",
    "    Vect(Matriz)\n",
    "    Descrição:\n",
    "        Vetoriza a `Matriz`\n",
    "    \"\"\"\n",
    "    return Matriz.ravel(order='F')\n",
    "\n",
    "# Exemplo\n",
    "a = np.array([\n",
    "    [1,4,7],\n",
    "    [2,5,8],\n",
    "    [3,6,9]\n",
    "])\n",
    "Vect(a)"
   ]
  },
  {
   "cell_type": "code",
   "execution_count": 11,
   "id": "b9e697e3-c757-4495-8b2e-5e7e4935d3b5",
   "metadata": {},
   "outputs": [],
   "source": [
    "def AutoCorr(vector):\n",
    "    \"\"\"\n",
    "    AutoCorr(vector)\n",
    "    Descrição: \n",
    "        Realiza a autocorrelação de um vetor com apenas uma realização.\n",
    "        Apenas para a definição do Bussgang\n",
    "        \n",
    "    \"\"\"\n",
    "    \n",
    "    return np.outer(vector,vector)"
   ]
  },
  {
   "cell_type": "markdown",
   "id": "dc854c6a-80df-44e9-8564-13c40a671057",
   "metadata": {},
   "source": [
    "**Importante**: Ainda está em processo de investigação a definição acima, devido a não-claridade do que o artigo se refere. Isso será explicado em mais detalhes na seção de estimação com o estimador de Bussgang.\n",
    "\n",
    "### Estimador MS\n",
    "\n",
    "O princípio do estimador MS é realizar a operação descrita na equação (4) diretamente. O passo de quantização define entre usar o resultado de (4) ou (5) no cálculo. Se a matriz $\\bar\\Phi$ for quadrada, é resolvido $A\\mathbf{x}=\\mathbf{b}$ diretamente, caso contrário, vira um problema de mínimos quadrados."
   ]
  },
  {
   "cell_type": "code",
   "execution_count": 12,
   "id": "682ede5a-4efe-4c1d-88bf-f4ea0187758c",
   "metadata": {},
   "outputs": [],
   "source": [
    "def EstimarCanalMS(H_real,tamanhoPiloto=None,SNR=20,quant=True):\n",
    "    # Obtenção dos parâmetros importantes\n",
    "    K = H_real.shape[1]\n",
    "    M = H_real.shape[0]\n",
    "    \n",
    "    # Define tamanho do piloto caso não definido\n",
    "    if not tamanhoPiloto:\n",
    "        tamanhoPiloto = K\n",
    "\n",
    "    # Calculo da potência linear\n",
    "    Rho_p = CalcularRho(SNR,K)\n",
    "\n",
    "    # Calcula matriz de pilotos\n",
    "    pilotos = np.fft.fft(np.eye(max(tamanhoPiloto,K)))\n",
    "    Phi = pilotos[0:tamanhoPiloto,0:K] \n",
    "\n",
    "    # Faz a transmissão para receber os pilotos\n",
    "    Y_rec = TransmissaoMIMO(H_real,Phi.T,SNR=SNR)\n",
    "    if quant:\n",
    "        Y_rec = Quantizador(Y_rec)\n",
    "\n",
    "    # Calcula a equação de estimação do canal\n",
    "    Phi_bar = np.kron(Phi,Rho_p*np.eye(M))\n",
    "    H_est = np.linalg.lstsq(Phi_bar,Vect(Y_rec).T,rcond=None)[0]\n",
    "    \n",
    "    return H_est.reshape(H_real.shape,order=\"F\")"
   ]
  },
  {
   "cell_type": "markdown",
   "id": "7bee023d-7fe7-4a99-a0a6-5f38a9fcab33",
   "metadata": {},
   "source": [
    "### Estimador AQN\n",
    "\n",
    "O estimador AQN aproveita a simplificação que o artigo indica e aplica a função (16) diretamente. \n",
    "\n",
    "Essa aproximação é dada pelo artigo _\" In fact, (14) can be reduced to the estimator derived in \\[28\\] if $\\tau = K$ is assumed\"_."
   ]
  },
  {
   "cell_type": "code",
   "execution_count": 13,
   "id": "d04d2ead-33a4-4c78-b8b1-3f8caab83168",
   "metadata": {},
   "outputs": [],
   "source": [
    "def EstimarCanalAQN(H_real,SNR=20):\n",
    "    \"\"\"\n",
    "    EstimarCanalBussgang(H_real)\n",
    "    Descrição:\n",
    "        Estima o canal e retorna um canal estimado\n",
    "    Parametros:\n",
    "        - H_real: Canal real\n",
    "        - tamanhoPiloto (default=None): Quantidade de símbolos piloto \n",
    "        para transmissão. Se vazio, considera igual ao número de antenas\n",
    "        definido por H_real.\n",
    "        - SNR (default=20): SNR do treinamento, em dB\n",
    "    Return:\n",
    "        - H_est: Canal estimado\n",
    "    \"\"\"\n",
    "    # Obtenção dos parâmetros importantes\n",
    "    K = H_real.shape[1]\n",
    "    M = H_real.shape[0]\n",
    "    tamanhoPiloto = K\n",
    "    \n",
    "    # Cria matriz piloto segundo especificações\n",
    "    pilotos = np.fft.fft(np.eye(max(tamanhoPiloto,K)))\n",
    "    Phi = pilotos[0:tamanhoPiloto,0:K] \n",
    "    \n",
    "    # Calcula matriz Ap da decomposicao\n",
    "    rho_d = CalcularRho(SNR,K)\n",
    "    Ap = np.sqrt((2/np.pi)*(1/(K*rho_d+1)))*np.eye(M*tamanhoPiloto)\n",
    "    \n",
    "    # Calcula a relação de equação\n",
    "    Phi_bar = np.kron(Phi,rho_d*np.eye(M))\n",
    "    Phi_tilde = np.matrix(np.matmul(Ap,Phi_bar))\n",
    "    \n",
    "    # Faz a transmissão no canal e quantiza o resultado\n",
    "    Y_rec = TransmissaoMIMO(H_real,Phi.T,SNR=SNR)\n",
    "    R_rec = Quantizador(Y_rec)\n",
    "    R_rec = Vect(R_rec)\n",
    "    \n",
    "    # Calcula o estimador\n",
    "    H_est = np.matmul(Phi_tilde.H,R_rec)\n",
    "    \n",
    "    return H_est.reshape(H_real.shape,order='F')"
   ]
  },
  {
   "cell_type": "markdown",
   "id": "bf0cb216-8d90-48db-aeb8-e1d714616fb1",
   "metadata": {},
   "source": [
    "### Estimador proposto\n",
    "\n",
    "O estimador proposto pode ser calculado diretamente da equação (14).\n",
    "\n",
    "Para o cálculo desse estimador, é necessário descobrir qual a matriz de autocorrelação de $\\mathbf{r}_p$, ela é obtida com a fórmula (13), que exige descobrir a autocorrelação de $\\mathbf{y}_p$. A demonstração do cálculo dessa matriz está abaixo:"
   ]
  },
  {
   "cell_type": "markdown",
   "id": "ceceff4e-86fc-4e8b-913a-c4f4e198b2bb",
   "metadata": {},
   "source": [
    "Temos a função de estimação de sinal \n",
    "\n",
    "$$y_p=\\bar\\Phi\\mathbf{h}+\\mathbf{n}_p$$\n",
    "\n",
    "Aplicamos a fórmula para a matriz de autocovariância:\n",
    "\n",
    "$$\\mathbf{C}_{\\mathbf{y}_p}=E[\\mathbf{y}_p\\mathbf{y}_p^H]=E[(\\bar\\Phi\\mathbf{h}+\\mathbf{n}_p)(\\bar\\Phi\\mathbf{h}+\\mathbf{n}_p)^H]=\n",
    "E[\\bar\\Phi\\mathbf{h}\\mathbf{h}^H\\bar\\Phi^H+\\bar\\Phi\\mathbf{h}\\mathbf{n}_p^H+\\mathbf{n}_p\\mathbf{h}^H\\bar\\Phi^H+\\mathbf{n}_p\\mathbf{n}_p^H]=\\bar\\Phi\\mathbf{C}_{\\mathbf{h}}\\bar\\Phi^H+2\\bar\\Phi\\mathbf{C}_{\\mathbf{h},\\mathbf{n}_p}+\\mathbf{C}_{\\mathbf{n}_p}$$\n",
    "\n",
    "Como $2\\bar\\Phi\\mathbf{C}_{\\mathbf{h},\\mathbf{n}_p}=0$, temos que finalmente:\n",
    "\n",
    "$$\\mathbf{C}_{\\mathbf{y}_p}=\\bar\\Phi\\mathbf{C}_{\\mathbf{h}}\\bar\\Phi^H+\\mathbf{C}_{\\mathbf{n}_p}$$"
   ]
  },
  {
   "cell_type": "markdown",
   "id": "3f3b4198-1202-40fd-871b-d64643b48280",
   "metadata": {},
   "source": [
    "Já o artigo da referência \\[40\\] define uma estimativa da correlação de $\\mathbf{y}_p$ com base no próprio valor recebido. A estimativa é calculada como:\n",
    "\n",
    "$$\\hat C_{y_p} = E[y_py_p^H]+I_M$$"
   ]
  },
  {
   "cell_type": "code",
   "execution_count": 15,
   "id": "3a1b66bc-7e68-47dc-9f16-4c8eff36d08d",
   "metadata": {},
   "outputs": [],
   "source": [
    "def EstimarCanalBussgang(H_real,tamanhoPiloto=None,SNR=20,estimar=False):\n",
    "    \"\"\"\n",
    "    EstimarCanalBussgang(H_real)\n",
    "    Descrição:\n",
    "    Estima o canal e retorna um canal estimado\n",
    "    Parametros:\n",
    "    - H_real: Canal real\n",
    "    - tamanhoPiloto (default=None): Quantidade de símbolos piloto \n",
    "    para transmissão. Se vazio, considera igual ao número de antenas\n",
    "    definido por H_real.\n",
    "    - SNR (default=20): SNR do treinamento, em dB\n",
    "    - estimativaCorrelacao (default=False): Se verdadeiro, calcula a \n",
    "    estimativa baseado no valor recebido de y_p. Se falso, calcula com base na formula acima.\n",
    "    Return:\n",
    "    - H_est: Canal estimado\n",
    "    \"\"\"\n",
    "    \n",
    "    # Recupera informações de número de antenas da matriz de H real\n",
    "    K = H_real.shape[1]\n",
    "    M = H_real.shape[0]\n",
    "    \n",
    "    # Valor padrão para tamanho piloto\n",
    "    if not tamanhoPiloto:\n",
    "        tamanhoPiloto = K\n",
    "    \n",
    "    rho_d = CalcularRho(SNR,K)\n",
    "    \n",
    "    # Cria matriz piloto segundo especificações\n",
    "    pilotos = np.fft.fft(np.eye(max(tamanhoPiloto,K)))\n",
    "    Phi = pilotos[0:tamanhoPiloto,0:K] \n",
    "    \n",
    "    Ap = np.sqrt((2/np.pi)*(1/(K*rho_d+1)))*np.eye(M*tamanhoPiloto)\n",
    "    \n",
    "    Phi_bar = np.kron(Phi,rho_d*np.eye(M))\n",
    "    \n",
    "    Phi_tilde = np.matrix(np.matmul(Ap,Phi_bar))\n",
    "\n",
    "    Y_rec = TransmissaoMIMO(H_real,Phi.T,SNR=SNR)\n",
    "    R_rec = Quantizador(Y_rec)   \n",
    "\n",
    "    if estimar:\n",
    "        Corr_y = (Vect(Y_rec)@Vect(Y_rec).H)/tamanhoPiloto + np.eye(M*tamanhoPiloto)\n",
    "    else:\n",
    "        Corr_y = Phi_bar@np.eye(M*K)@np.matrix(Phi_bar).H+np.eye(M*tamanhoPiloto)\n",
    "    \n",
    "    diagY = np.diag(np.sqrt(1/np.diag(Corr_y)))\n",
    "    \n",
    "    Corr_R = (2/np.pi)*(np.arcsin(diagY@np.real(Corr_y)@diagY) + 1j*(np.arcsin(diagY@np.imag(Corr_y)@diagY)))\n",
    "    \n",
    "    H_est = np.matmul(Phi_tilde.H,np.linalg.inv(Corr_R))\n",
    "    H_est = np.matmul(H_est,Vect(R_rec).T)\n",
    "    \n",
    "    return H_est.reshape(H_real.shape,order='F')"
   ]
  },
  {
   "cell_type": "markdown",
   "id": "e627e80f",
   "metadata": {},
   "source": [
    "Para avaliar o erro de estimativa, usa-se a métrica de erro médio quadrático."
   ]
  },
  {
   "cell_type": "code",
   "execution_count": 16,
   "id": "2bd033ff",
   "metadata": {},
   "outputs": [],
   "source": [
    "# Cálculo para determinar o erro médio quadrático normalizado\n",
    "def CalcularNMSE(H_est,H_real):\n",
    "    res = float(np.abs(Vect((H_est-H_real))@Vect((H_est-H_real)).H))\n",
    "    NMSE = res / (H_real.shape[0]*H_real.shape[1])\n",
    "    return 10*np.log10(NMSE)"
   ]
  },
  {
   "cell_type": "markdown",
   "id": "0dfdcf4d",
   "metadata": {},
   "source": [
    "### Prova de conceito de estimação"
   ]
  },
  {
   "cell_type": "code",
   "execution_count": 17,
   "id": "9bbd8c2a",
   "metadata": {},
   "outputs": [
    {
     "name": "stderr",
     "output_type": "stream",
     "text": [
      "/tmp/ipykernel_25332/1036405581.py:3: DeprecationWarning: Conversion of an array with ndim > 0 to a scalar is deprecated, and will error in future. Ensure you extract a single element from your array before performing this operation. (Deprecated NumPy 1.25.)\n",
      "  res = float(np.abs(Vect((H_est-H_real))@Vect((H_est-H_real)).H))\n"
     ]
    },
    {
     "ename": "KeyboardInterrupt",
     "evalue": "",
     "output_type": "error",
     "traceback": [
      "\u001b[0;31m---------------------------------------------------------------------------\u001b[0m",
      "\u001b[0;31mKeyboardInterrupt\u001b[0m                         Traceback (most recent call last)",
      "Cell \u001b[0;32mIn[17], line 10\u001b[0m\n\u001b[1;32m      8\u001b[0m \u001b[38;5;28;01mfor\u001b[39;00m i \u001b[38;5;129;01min\u001b[39;00m \u001b[38;5;28mrange\u001b[39m(repeticoesExpr):\n\u001b[1;32m      9\u001b[0m     H \u001b[38;5;241m=\u001b[39m GerarCanal(M,K)\n\u001b[0;32m---> 10\u001b[0m     H_est \u001b[38;5;241m=\u001b[39m \u001b[43mEstimador\u001b[49m\u001b[43m(\u001b[49m\u001b[43mH\u001b[49m\u001b[43m,\u001b[49m\u001b[38;5;241;43m*\u001b[39;49m\u001b[38;5;241;43m*\u001b[39;49m\u001b[43mparams\u001b[49m\u001b[43m)\u001b[49m\n\u001b[1;32m     11\u001b[0m     res\u001b[38;5;241m.\u001b[39mappend(CalcularNMSE(H_est,H))\n\u001b[1;32m     13\u001b[0m \u001b[38;5;28mprint\u001b[39m(\u001b[38;5;124m\"\u001b[39m\u001b[38;5;124mMédia do NMSE:\u001b[39m\u001b[38;5;124m\"\u001b[39m,\u001b[38;5;28msum\u001b[39m(res)\u001b[38;5;241m/\u001b[39m\u001b[38;5;28mlen\u001b[39m(res))\n",
      "Cell \u001b[0;32mIn[12], line 24\u001b[0m, in \u001b[0;36mEstimarCanalMS\u001b[0;34m(H_real, tamanhoPiloto, SNR, quant)\u001b[0m\n\u001b[1;32m     22\u001b[0m \u001b[38;5;66;03m# Calcula a equação de estimação do canal\u001b[39;00m\n\u001b[1;32m     23\u001b[0m Phi_bar \u001b[38;5;241m=\u001b[39m np\u001b[38;5;241m.\u001b[39mkron(Phi,Rho_p\u001b[38;5;241m*\u001b[39mnp\u001b[38;5;241m.\u001b[39meye(M))\n\u001b[0;32m---> 24\u001b[0m H_est \u001b[38;5;241m=\u001b[39m \u001b[43mnp\u001b[49m\u001b[38;5;241;43m.\u001b[39;49m\u001b[43mlinalg\u001b[49m\u001b[38;5;241;43m.\u001b[39;49m\u001b[43mlstsq\u001b[49m\u001b[43m(\u001b[49m\u001b[43mPhi_bar\u001b[49m\u001b[43m,\u001b[49m\u001b[43mVect\u001b[49m\u001b[43m(\u001b[49m\u001b[43mY_rec\u001b[49m\u001b[43m)\u001b[49m\u001b[38;5;241;43m.\u001b[39;49m\u001b[43mT\u001b[49m\u001b[43m,\u001b[49m\u001b[43mrcond\u001b[49m\u001b[38;5;241;43m=\u001b[39;49m\u001b[38;5;28;43;01mNone\u001b[39;49;00m\u001b[43m)\u001b[49m[\u001b[38;5;241m0\u001b[39m]\n\u001b[1;32m     26\u001b[0m \u001b[38;5;28;01mreturn\u001b[39;00m H_est\u001b[38;5;241m.\u001b[39mreshape(H_real\u001b[38;5;241m.\u001b[39mshape,order\u001b[38;5;241m=\u001b[39m\u001b[38;5;124m\"\u001b[39m\u001b[38;5;124mF\u001b[39m\u001b[38;5;124m\"\u001b[39m)\n",
      "File \u001b[0;32m~/miniconda3/envs/cvxpy/lib/python3.11/site-packages/numpy/linalg/linalg.py:2326\u001b[0m, in \u001b[0;36mlstsq\u001b[0;34m(a, b, rcond)\u001b[0m\n\u001b[1;32m   2323\u001b[0m \u001b[38;5;28;01mif\u001b[39;00m n_rhs \u001b[38;5;241m==\u001b[39m \u001b[38;5;241m0\u001b[39m:\n\u001b[1;32m   2324\u001b[0m     \u001b[38;5;66;03m# lapack can't handle n_rhs = 0 - so allocate the array one larger in that axis\u001b[39;00m\n\u001b[1;32m   2325\u001b[0m     b \u001b[38;5;241m=\u001b[39m zeros(b\u001b[38;5;241m.\u001b[39mshape[:\u001b[38;5;241m-\u001b[39m\u001b[38;5;241m2\u001b[39m] \u001b[38;5;241m+\u001b[39m (m, n_rhs \u001b[38;5;241m+\u001b[39m \u001b[38;5;241m1\u001b[39m), dtype\u001b[38;5;241m=\u001b[39mb\u001b[38;5;241m.\u001b[39mdtype)\n\u001b[0;32m-> 2326\u001b[0m x, resids, rank, s \u001b[38;5;241m=\u001b[39m \u001b[43mgufunc\u001b[49m\u001b[43m(\u001b[49m\u001b[43ma\u001b[49m\u001b[43m,\u001b[49m\u001b[43m \u001b[49m\u001b[43mb\u001b[49m\u001b[43m,\u001b[49m\u001b[43m \u001b[49m\u001b[43mrcond\u001b[49m\u001b[43m,\u001b[49m\u001b[43m \u001b[49m\u001b[43msignature\u001b[49m\u001b[38;5;241;43m=\u001b[39;49m\u001b[43msignature\u001b[49m\u001b[43m,\u001b[49m\u001b[43m \u001b[49m\u001b[43mextobj\u001b[49m\u001b[38;5;241;43m=\u001b[39;49m\u001b[43mextobj\u001b[49m\u001b[43m)\u001b[49m\n\u001b[1;32m   2327\u001b[0m \u001b[38;5;28;01mif\u001b[39;00m m \u001b[38;5;241m==\u001b[39m \u001b[38;5;241m0\u001b[39m:\n\u001b[1;32m   2328\u001b[0m     x[\u001b[38;5;241m.\u001b[39m\u001b[38;5;241m.\u001b[39m\u001b[38;5;241m.\u001b[39m] \u001b[38;5;241m=\u001b[39m \u001b[38;5;241m0\u001b[39m\n",
      "\u001b[0;31mKeyboardInterrupt\u001b[0m: "
     ]
    }
   ],
   "source": [
    "repeticoesExpr = 10000\n",
    "M = 16\n",
    "K = 4\n",
    "Estimador = EstimarCanalMS\n",
    "params = {\"SNR\":20,'tamanhoPiloto':20}#,\"quant\":False}\n",
    "\n",
    "res = []\n",
    "for i in range(repeticoesExpr):\n",
    "    H = GerarCanal(M,K)\n",
    "    H_est = Estimador(H,**params)\n",
    "    res.append(CalcularNMSE(H_est,H))\n",
    "\n",
    "print(\"Média do NMSE:\",sum(res)/len(res))"
   ]
  },
  {
   "cell_type": "markdown",
   "id": "f8f4b17a-d61c-49b2-be1b-4f1e007ff338",
   "metadata": {},
   "source": [
    "Finalmente, vamos testar a capacidade dos estimadores até o momento:"
   ]
  },
  {
   "cell_type": "code",
   "execution_count": 21,
   "id": "09dc5142-30e2-49bd-8571-44c83adf4a84",
   "metadata": {},
   "outputs": [
    {
     "name": "stderr",
     "output_type": "stream",
     "text": [
      "/tmp/ipykernel_25332/1036405581.py:3: DeprecationWarning: Conversion of an array with ndim > 0 to a scalar is deprecated, and will error in future. Ensure you extract a single element from your array before performing this operation. (Deprecated NumPy 1.25.)\n",
      "  res = float(np.abs(Vect((H_est-H_real))@Vect((H_est-H_real)).H))\n"
     ]
    },
    {
     "name": "stdout",
     "output_type": "stream",
     "text": [
      "CPU times: user 10min 55s, sys: 6min 44s, total: 17min 39s\n",
      "Wall time: 2min 41s\n"
     ]
    }
   ],
   "source": [
    "%%time\n",
    "\n",
    "# Parâmetros do experimento\n",
    "M = 16 # Número de antenas receptoras\n",
    "K = 4 # Número de antenas transmissoras\n",
    "repeticoesExpr = 100 # Número de repetições por SNR\n",
    "tamanhoPilotoProposto = 20 # Mesmo valor do artigo\n",
    "\n",
    "# Tabela de resultados\n",
    "resultados = pd.DataFrame([],)\n",
    "\n",
    "# Estimadores utilizados\n",
    "Estimadores = {\n",
    "    #\"MS\":[EstimarCanalMS,{'quant':False}],\n",
    "    #\"MS-Quant\":[EstimarCanalMS,{}],\n",
    "   # \"AQN\":[EstimarCanalAQN,{}],\n",
    "    \"Bussgang\":[EstimarCanalBussgang,{'tamanhoPiloto':20}] # Bussgang com repetições na transmissão\n",
    "}\n",
    "\n",
    "# Repete o experimento múltiplas vezes para obter variações estatísticas\n",
    "for repsExpr in range(repeticoesExpr):\n",
    "    # Realiza o experimento entre -20 e 20 dB\n",
    "    for SNR in range(-20,21,2): \n",
    "        # Calcula o canal real\n",
    "        H_real = GerarCanal(M,K) # Gera canal\n",
    "        # Para cada estimador, faz a estimação, calcula o NMSE e salva o resultado\n",
    "        for estimador, (FuncaoEstimador,kwargs) in Estimadores.items():\n",
    "            H_est = FuncaoEstimador(H_real,SNR=SNR,**kwargs)\n",
    "            NMSE = CalcularNMSE(H_est,H_real)\n",
    "            resultados = pd.concat([resultados,pd.DataFrame(\n",
    "                {\"SNR\":[SNR],\"Estimador\":[estimador],\"NMSE (dB)\":[NMSE]}    \n",
    "            )],ignore_index=True)"
   ]
  },
  {
   "cell_type": "code",
   "execution_count": 22,
   "id": "14dd6312-8593-4a0d-b7b5-c0fb9fa9a888",
   "metadata": {},
   "outputs": [
    {
     "data": {
      "text/plain": [
       "Text(0.5, 1.0, 'Desempenho de estimação do canal')"
      ]
     },
     "execution_count": 22,
     "metadata": {},
     "output_type": "execute_result"
    },
    {
     "data": {
      "image/png": "[encoded data removed]",
      "text/plain": [
       "<Figure size 617.75x500 with 1 Axes>"
      ]
     },
     "metadata": {},
     "output_type": "display_data"
    }
   ],
   "source": [
    "sns.catplot(data=resultados,x='SNR',y='NMSE (dB)',hue='Estimador',errorbar=\"se\",kind=\"point\")\n",
    "#plt.yscale('log')\n",
    "plt.title(\"Desempenho de estimação do canal\")"
   ]
  },
  {
   "cell_type": "markdown",
   "id": "2a0c3d1c-2a0b-4ba9-8f1f-923fdd1c7e4b",
   "metadata": {},
   "source": [
    "O gráfico acima mostra os mesmos resultados que a figura 2 do artigo com a adição de duas novas curvas: A curva para o estimador de mínimos quadrados (MS) e a curva para o estimador de mínimos quadrados quando se quantiza o resultado da transmissão (MS-Quant). Podemos observar que esses estimadores possuem um desempenho pior que um dos estimadores comparados para o caso de SNR baixo. Surpreendentemente, estimar via MS em um caso de baixo SNR dá um resultado melhor quando a transmissão é quantizada do que quando é linar, o que acaba assim que o SNR fica maior que 5.\n",
    "\n",
    "Para repetir o gráfico da figura 2, fazemos o gráfico abaixo:"
   ]
  },
  {
   "cell_type": "markdown",
   "id": "832c869c-ec17-45dc-8f99-fc5ba88d6a47",
   "metadata": {},
   "source": [
    "A comparação não pode ser feita justamente porque ainda não temos o resultado do estimador proposto.\n",
    "\n",
    "Uma vez conseguindo realizar o estimador, pode-se repetir os resultados das figuras 2 e 3."
   ]
  },
  {
   "cell_type": "markdown",
   "id": "aeaf3aad-2f92-4912-8f48-e5c6ede923ee",
   "metadata": {},
   "source": [
    "## Otimização da eficiência espectral\n",
    "\n",
    "Cálculo da equação 48"
   ]
  },
  {
   "cell_type": "code",
   "execution_count": 66,
   "id": "80a30325",
   "metadata": {},
   "outputs": [
    {
     "name": "stdout",
     "output_type": "stream",
     "text": [
      "16.75834553527082\n",
      "[199, -200, 4]\n"
     ]
    }
   ],
   "source": [
    "M = 16\n",
    "K = 4\n",
    "tau = 20 # Tamanho Piloto\n",
    "\n",
    "P = 20\n",
    "T = 100\n",
    "\n",
    "# R_{MRC,k}\n",
    "rho_d = cvx.Variable()\n",
    "rho_p = cvx.Variable()\n",
    "tau = cvx.Variable()\n",
    "\n",
    "\n",
    "def CalcularCapacidade(rho_p,rho_d,tau,M,K):\n",
    "    # Variáveis auxiliares\n",
    "    alpha_p = np.sqrt((2*np.pi)*(1/(K*rho_p+1)))\n",
    "    alpha_d = np.sqrt((2*np.pi)*(1/(K*rho_d+1)))\n",
    "    sigma2 = ((alpha_p**2)*tau*rho_p)/((alpha_p**2)*(tau*rho_p+1)+1-(2/np.pi))\n",
    "\n",
    "    # Cálculo de capacidade\n",
    "    R = np.log2(rho_d*(alpha_d**2)*M*sigma2+1)\n",
    "\n",
    "    # Cálculo de eficiência espectral\n",
    "    S = ((T-tau)/T)*K*R\n",
    "\n",
    "    return S\n",
    "\n",
    "constraints = [\n",
    "    tau*rho_p+(T-tau)*rho_d <= P,\n",
    "    K <= tau,\n",
    "    tau <= T,\n",
    "    rho_p >= 0,\n",
    "    rho_d >= 0\n",
    "]\n",
    "\n",
    "S_max = - np.inf\n",
    "for SNR_p in range(-200,200,):\n",
    "    for SNR_d in range(-200,200):\n",
    "        for tau in range(K,K+30):\n",
    "            rho_p = CalcularRho(SNR_p/10,K)\n",
    "            rho_d = CalcularRho(SNR_p/10,K)\n",
    "            S = CalcularCapacidade(rho_p,rho_d,tau,M,K)\n",
    "            if S > S_max:\n",
    "                S_max = S \n",
    "                params = [SNR_p,SNR_d,tau]\n",
    "print(S_max)\n",
    "print(params)"
   ]
  },
  {
   "cell_type": "code",
   "execution_count": 30,
   "id": "00fdc5ec",
   "metadata": {},
   "outputs": [
    {
     "name": "stdout",
     "output_type": "stream",
     "text": [
      "optimal_inaccurate\n"
     ]
    },
    {
     "name": "stderr",
     "output_type": "stream",
     "text": [
      "/home/fdias/miniconda3/envs/cvxpy/lib/python3.11/site-packages/cvxpy/reductions/solvers/solving_chain.py:336: FutureWarning: \n",
      "    Your problem is being solved with the ECOS solver by default. Starting in \n",
      "    CVXPY 1.5.0, Clarabel will be used as the default solver instead. To continue \n",
      "    using ECOS, specify the ECOS solver explicitly using the ``solver=cp.ECOS`` \n",
      "    argument to the ``problem.solve`` method.\n",
      "    \n",
      "  warnings.warn(ECOS_DEPRECATION_MSG, FutureWarning)\n",
      "/home/fdias/miniconda3/envs/cvxpy/lib/python3.11/site-packages/cvxpy/problems/problem.py:1403: UserWarning: Solution may be inaccurate. Try another solver, adjusting the solver settings, or solve with verbose=True for more information.\n",
      "  warnings.warn(\n"
     ]
    }
   ],
   "source": [
    "M = 16\n",
    "K = 4\n",
    "tau = 20 # Tamanho Piloto\n",
    "\n",
    "P = 20\n",
    "T = 100\n",
    "\n",
    "# R_{MRC,k}\n",
    "rho_d = cvx.Variable()\n",
    "rho_p = cvx.Variable()\n",
    "tau = cvx.Variable()\n",
    "\n",
    "# Variáveis auxiliares\n",
    "alpha_p = cvx.inv_pos((np.pi*(cvx.multiply(K,rho_p)+1)))\n",
    "#alpha_d = cvx.sqrt((2*np.pi)*(1/(K*rho_d+1)))\n",
    "#sigma2 = ((alpha_p**2)*tau*rho_p)/((alpha_p**2)*(tau*rho_p+1)+1-(2/np.pi))\n",
    "\n",
    "# Cálculo de capacidade\n",
    "#R = cvx.log1p(rho_d*(alpha_d**2)*M*sigma2)\n",
    "\n",
    "# Cálculo de eficiência espectral\n",
    "#S = ((T-tau)/T)*K*R\n",
    "\n",
    "constraints = [\n",
    "#    tau*rho_p+(T-tau)*rho_d <= P,\n",
    "#    K <= tau,\n",
    "#    tau <= T,\n",
    "    rho_p >= 0,\n",
    "#    rho_d >= 0\n",
    "]\n",
    "\n",
    "objective = cvx.Minimize(alpha_p)\n",
    "prob = cvx.Problem(objective,constraints)\n",
    "prob.solve()#qcp=True)\n",
    "print(prob.status)\n",
    "if prob.status == 'optimal':\n",
    "    print(\"rho_d = \",rho_d.value)\n",
    "    print(\"rho_p = \",rho_p.value)\n",
    "    print(\"tau = \",tau.value)\n",
    "    print(\"S = \",np.sqrt(prob.value))\n",
    "    "
   ]
  },
  {
   "cell_type": "code",
   "execution_count": 31,
   "id": "77eb4730-7f05-46dc-8dc4-ba29180b3c35",
   "metadata": {},
   "outputs": [
    {
     "name": "stdout",
     "output_type": "stream",
     "text": [
      "optimal_inaccurate\n",
      "rho_d =  None\n",
      "rho_p =  335.34683170985943\n",
      "tau =  None\n",
      "S =  0.00023712223724074505\n"
     ]
    }
   ],
   "source": [
    "print(prob.status)\n",
    "print(\"rho_d = \",rho_d.value)\n",
    "print(\"rho_p = \",rho_p.value)\n",
    "print(\"tau = \",tau.value)\n",
    "print(\"S = \",prob.value)"
   ]
  },
  {
   "cell_type": "markdown",
   "id": "3ef84ee0-6d99-4051-b1a9-2afceea50dda",
   "metadata": {},
   "source": [
    "## Próximos passos\n",
    "\n",
    "Os próximos passos serão: \n",
    "\n",
    "- [ ] Fazer a portabilidade das simulações para rodar em ambientes com GPU.\n",
    "- [X] Corrigir o Bug no estimador proposto do artigo.\n",
    "- [ ] Implementar o cálculo de capacidade do canal para o caso de transmissão MIMO genérica.\n",
    "- [ ] Implementar o problema de otimização para calculo dos valores ótimos de $\\tau$ e $\\rho$ em um solver."
   ]
  },
  {
   "cell_type": "code",
   "execution_count": null,
   "id": "42c7e460",
   "metadata": {},
   "outputs": [],
   "source": []
  }
 ],
 "metadata": {
  "kernelspec": {
   "display_name": "Python 3 (ipykernel)",
   "language": "python",
   "name": "python3"
  },
  "language_info": {
   "codemirror_mode": {
    "name": "ipython",
    "version": 3
   },
   "file_extension": ".py",
   "mimetype": "text/x-python",
   "name": "python",
   "nbconvert_exporter": "python",
   "pygments_lexer": "ipython3",
   "version": "3.11.6"
  }
 },
 "nbformat": 4,
 "nbformat_minor": 5
}
